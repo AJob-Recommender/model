{
 "cells": [
  {
   "cell_type": "markdown",
   "source": [
    "## Importing Libraries"
   ],
   "metadata": {
    "collapsed": false,
    "pycharm": {
     "name": "#%% md\n"
    }
   }
  },
  {
   "cell_type": "code",
   "execution_count": 14,
   "outputs": [],
   "source": [
    "import numpy as np\n",
    "import pandas as pd"
   ],
   "metadata": {
    "collapsed": false,
    "pycharm": {
     "name": "#%%\n"
    }
   }
  },
  {
   "cell_type": "markdown",
   "source": [
    "## Importing the dataset"
   ],
   "metadata": {
    "collapsed": false,
    "pycharm": {
     "name": "#%% md\n"
    }
   }
  },
  {
   "cell_type": "code",
   "execution_count": 15,
   "outputs": [
    {
     "data": {
      "text/plain": "                                           Profile URL            Full Name  \\\n0             https://www.linkedin.com/in/evelio-sosa/          Evelio Sosa   \n1    https://www.linkedin.com/in/jyothi-vutukuri-a9...      Jyothi Vutukuri   \n2           https://www.linkedin.com/in/swarnava-basu/        Swarnava Basu   \n3           https://www.linkedin.com/in/adhiradeogade/       Adhira Deogade   \n4             https://www.linkedin.com/in/vikeshyadav/             Vikesh .   \n..                                                 ...                  ...   \n596       https://www.linkedin.com/in/hossein-assaran/      Hossein Assaran   \n597   https://www.linkedin.com/in/ali-rafiee-983ba088/           Ali Rafiee   \n598   https://www.linkedin.com/in/kian-emami-5b1708b7/           Kian Emami   \n599   https://www.linkedin.com/in/amir-hossein-binesh/  Amir hossein Binesh   \n600  https://www.linkedin.com/in/amirhosein-hajian-...    Amirhosein Hajian   \n\n                                           Experiences  \\\n0                                                   []   \n1    [{'name': 'devops engineer', 'place': 'IBM · F...   \n2    [{'name': 'devops engineer', 'place': 'Codelog...   \n3    [{'name': 'devops engineer', 'place': 'apple ·...   \n4    [{'name': 'devops engineer', 'place': 'Google ...   \n..                                                 ...   \n596  [{'name': 'hardware engineer', 'place': 'FavaM...   \n597  [{'name': 'hardware engineer', 'place': 'Rayan...   \n598  [{'name': 'hardware engineer', 'place': 'Alaem...   \n599  [{'name': 'hardware engineer', 'place': 'nove ...   \n600  [{'name': 'hardware engineer', 'place': 'Freel...   \n\n                                            Educations  \\\n0    [{'university': 'Texas A&amp;M University', 'm...   \n1    [{'university': 'Jawaharlal Nehru Technologica...   \n2    [{'university': 'Meghnad Saha Institute Of Tec...   \n3                                                   []   \n4    [{'university': 'Maharshi Dayanand University'...   \n..                                                 ...   \n596  [{'university': 'Shahed University', 'major': ...   \n597  [{'university': 'University of Tehran', 'major...   \n598      [{'university': 'IAUCTB', 'major': 'others'}]   \n599  [{'university': 'Sharif University of Technolo...   \n600  [{'university': 'Quchan University of Technolo...   \n\n                                                Skills  \n0    [HTML5, Cascading Style Sheets (CSS), Python (...  \n1    [Jenkins, Ansible, Git, AWS, Linux, Maven, She...  \n2    [Microsoft Azure, Amazon Web Services (AWS), G...  \n3    [Machine Learning, Python (Programming Languag...  \n4    [Amazon Web Services (AWS), DevOps, Linux Syst...  \n..                                                 ...  \n596  [C, C++, Qt, ARM, Software Development, Microc...  \n597  [Embedded Systems, Embedded Software, Electron...  \n598  [Programming, Software Development, GNU/Linux,...  \n599  [C++, Linux, ESP32 Microcontrollers, Arduino, ...  \n600  [C (Programming Language), STM32, Electronics,...  \n\n[601 rows x 5 columns]",
      "text/html": "<div>\n<style scoped>\n    .dataframe tbody tr th:only-of-type {\n        vertical-align: middle;\n    }\n\n    .dataframe tbody tr th {\n        vertical-align: top;\n    }\n\n    .dataframe thead th {\n        text-align: right;\n    }\n</style>\n<table border=\"1\" class=\"dataframe\">\n  <thead>\n    <tr style=\"text-align: right;\">\n      <th></th>\n      <th>Profile URL</th>\n      <th>Full Name</th>\n      <th>Experiences</th>\n      <th>Educations</th>\n      <th>Skills</th>\n    </tr>\n  </thead>\n  <tbody>\n    <tr>\n      <th>0</th>\n      <td>https://www.linkedin.com/in/evelio-sosa/</td>\n      <td>Evelio Sosa</td>\n      <td>[]</td>\n      <td>[{'university': 'Texas A&amp;amp;M University', 'm...</td>\n      <td>[HTML5, Cascading Style Sheets (CSS), Python (...</td>\n    </tr>\n    <tr>\n      <th>1</th>\n      <td>https://www.linkedin.com/in/jyothi-vutukuri-a9...</td>\n      <td>Jyothi Vutukuri</td>\n      <td>[{'name': 'devops engineer', 'place': 'IBM · F...</td>\n      <td>[{'university': 'Jawaharlal Nehru Technologica...</td>\n      <td>[Jenkins, Ansible, Git, AWS, Linux, Maven, She...</td>\n    </tr>\n    <tr>\n      <th>2</th>\n      <td>https://www.linkedin.com/in/swarnava-basu/</td>\n      <td>Swarnava Basu</td>\n      <td>[{'name': 'devops engineer', 'place': 'Codelog...</td>\n      <td>[{'university': 'Meghnad Saha Institute Of Tec...</td>\n      <td>[Microsoft Azure, Amazon Web Services (AWS), G...</td>\n    </tr>\n    <tr>\n      <th>3</th>\n      <td>https://www.linkedin.com/in/adhiradeogade/</td>\n      <td>Adhira Deogade</td>\n      <td>[{'name': 'devops engineer', 'place': 'apple ·...</td>\n      <td>[]</td>\n      <td>[Machine Learning, Python (Programming Languag...</td>\n    </tr>\n    <tr>\n      <th>4</th>\n      <td>https://www.linkedin.com/in/vikeshyadav/</td>\n      <td>Vikesh .</td>\n      <td>[{'name': 'devops engineer', 'place': 'Google ...</td>\n      <td>[{'university': 'Maharshi Dayanand University'...</td>\n      <td>[Amazon Web Services (AWS), DevOps, Linux Syst...</td>\n    </tr>\n    <tr>\n      <th>...</th>\n      <td>...</td>\n      <td>...</td>\n      <td>...</td>\n      <td>...</td>\n      <td>...</td>\n    </tr>\n    <tr>\n      <th>596</th>\n      <td>https://www.linkedin.com/in/hossein-assaran/</td>\n      <td>Hossein Assaran</td>\n      <td>[{'name': 'hardware engineer', 'place': 'FavaM...</td>\n      <td>[{'university': 'Shahed University', 'major': ...</td>\n      <td>[C, C++, Qt, ARM, Software Development, Microc...</td>\n    </tr>\n    <tr>\n      <th>597</th>\n      <td>https://www.linkedin.com/in/ali-rafiee-983ba088/</td>\n      <td>Ali Rafiee</td>\n      <td>[{'name': 'hardware engineer', 'place': 'Rayan...</td>\n      <td>[{'university': 'University of Tehran', 'major...</td>\n      <td>[Embedded Systems, Embedded Software, Electron...</td>\n    </tr>\n    <tr>\n      <th>598</th>\n      <td>https://www.linkedin.com/in/kian-emami-5b1708b7/</td>\n      <td>Kian Emami</td>\n      <td>[{'name': 'hardware engineer', 'place': 'Alaem...</td>\n      <td>[{'university': 'IAUCTB', 'major': 'others'}]</td>\n      <td>[Programming, Software Development, GNU/Linux,...</td>\n    </tr>\n    <tr>\n      <th>599</th>\n      <td>https://www.linkedin.com/in/amir-hossein-binesh/</td>\n      <td>Amir hossein Binesh</td>\n      <td>[{'name': 'hardware engineer', 'place': 'nove ...</td>\n      <td>[{'university': 'Sharif University of Technolo...</td>\n      <td>[C++, Linux, ESP32 Microcontrollers, Arduino, ...</td>\n    </tr>\n    <tr>\n      <th>600</th>\n      <td>https://www.linkedin.com/in/amirhosein-hajian-...</td>\n      <td>Amirhosein Hajian</td>\n      <td>[{'name': 'hardware engineer', 'place': 'Freel...</td>\n      <td>[{'university': 'Quchan University of Technolo...</td>\n      <td>[C (Programming Language), STM32, Electronics,...</td>\n    </tr>\n  </tbody>\n</table>\n<p>601 rows × 5 columns</p>\n</div>"
     },
     "execution_count": 15,
     "metadata": {},
     "output_type": "execute_result"
    }
   ],
   "source": [
    "data = pd.read_json(\"data/new-jobs/03-7-28-22/new_jobs-7-28-22.json\")\n",
    "data"
   ],
   "metadata": {
    "collapsed": false,
    "pycharm": {
     "name": "#%%\n"
    }
   }
  },
  {
   "cell_type": "markdown",
   "source": [
    "## creating new dataframe for the model"
   ],
   "metadata": {
    "collapsed": false,
    "pycharm": {
     "name": "#%% md\n"
    }
   }
  },
  {
   "cell_type": "code",
   "execution_count": 21,
   "outputs": [
    {
     "data": {
      "text/plain": "Empty DataFrame\nColumns: [full name, backend_frameworks, frontend_frameworks, programming_languages, devops_technologies, version_controls, ui-ux, system_design_skills, databases, ai_models, ai_frameworks, network_skills, hardware_skills, message_brokers, os, bachelor-computer engineering, master-computer engineering, phd-computer engineering, other-majors, mobile developer, data scientist, ui-ux designer, network engineer, data engineer, software engineer, full stack developer, frontend developer, hardware engineer, devops engineer, database administrator, other experiences, current experience]\nIndex: []\n\n[0 rows x 32 columns]",
      "text/html": "<div>\n<style scoped>\n    .dataframe tbody tr th:only-of-type {\n        vertical-align: middle;\n    }\n\n    .dataframe tbody tr th {\n        vertical-align: top;\n    }\n\n    .dataframe thead th {\n        text-align: right;\n    }\n</style>\n<table border=\"1\" class=\"dataframe\">\n  <thead>\n    <tr style=\"text-align: right;\">\n      <th></th>\n      <th>full name</th>\n      <th>backend_frameworks</th>\n      <th>frontend_frameworks</th>\n      <th>programming_languages</th>\n      <th>devops_technologies</th>\n      <th>version_controls</th>\n      <th>ui-ux</th>\n      <th>system_design_skills</th>\n      <th>databases</th>\n      <th>ai_models</th>\n      <th>...</th>\n      <th>network engineer</th>\n      <th>data engineer</th>\n      <th>software engineer</th>\n      <th>full stack developer</th>\n      <th>frontend developer</th>\n      <th>hardware engineer</th>\n      <th>devops engineer</th>\n      <th>database administrator</th>\n      <th>other experiences</th>\n      <th>current experience</th>\n    </tr>\n  </thead>\n  <tbody>\n  </tbody>\n</table>\n<p>0 rows × 32 columns</p>\n</div>"
     },
     "execution_count": 21,
     "metadata": {},
     "output_type": "execute_result"
    }
   ],
   "source": [
    "model_df = pd.DataFrame(columns=[\n",
    "    \"full name\",\n",
    "    # Skills\n",
    "    \"backend_frameworks\",\n",
    "    \"frontend_frameworks\",\n",
    "    \"programming_languages\",\n",
    "    \"devops_technologies\",\n",
    "    \"version_controls\",\n",
    "    \"ui-ux\",\n",
    "    \"system_design_skills\",\n",
    "    \"databases\",\n",
    "    \"ai_models\",\n",
    "    \"ai_frameworks\",\n",
    "    \"network_skills\",\n",
    "    \"hardware_skills\",\n",
    "    \"message_brokers\",\n",
    "    \"os\",\n",
    "    # Educations\n",
    "    \"bachelor-computer engineering\",\n",
    "    \"master-computer engineering\",\n",
    "    \"phd-computer engineering\",\n",
    "    \"other-majors\",\n",
    "    # Experiences\n",
    "    \"mobile developer\",\n",
    "    \"data scientist\",\n",
    "    \"ui-ux designer\",\n",
    "    \"network engineer\",\n",
    "    \"data engineer\",\n",
    "    \"software engineer\",\n",
    "    \"full stack developer\",\n",
    "    \"frontend developer\",\n",
    "    \"hardware engineer\",\n",
    "    \"devops engineer\",\n",
    "    \"database administrator\",\n",
    "    \"other experiences\",\n",
    "    # model output\n",
    "    \"current experience\",\n",
    "])\n",
    "model_df"
   ],
   "metadata": {
    "collapsed": false,
    "pycharm": {
     "name": "#%%\n"
    }
   }
  },
  {
   "cell_type": "markdown",
   "source": [
    "## Skill Buckets"
   ],
   "metadata": {
    "collapsed": false,
    "pycharm": {
     "name": "#%% md\n"
    }
   }
  },
  {
   "cell_type": "code",
   "execution_count": 22,
   "outputs": [],
   "source": [
    "SKILL_BUCKETS = {\n",
    "    \"programming_languages\": [\n",
    "        {\"java\", \"Core Java\", \"Java Enterprise Edition\", \"JavaSE\"},\n",
    "        {\"kotlin\"},\n",
    "        {\"xml\"},\n",
    "        {\"swift\", \"Swift (Programming Language)\"},\n",
    "        {\"android\", \"android jetpack\", \"android data binding\", \"Android Development\"},\n",
    "        {\"matlab\"},\n",
    "        {\"ios\", \"ios development\"},\n",
    "        {\"r\", \"R Programming\"},\n",
    "        {\"python\", \"Python (Programming Language)\"},\n",
    "        {\"php\"},\n",
    "        {\"javascript\", \"js\", \"JavaScript eXtension (JSX)\"},\n",
    "        {\"HTML\", \"HTML5\", \"HTML 5\"},\n",
    "        {\"CSS\", \"Cascading Style Sheets (CSS)\", \"sass\", \"less\", \"Tailwind CSS\", \"scss\"},\n",
    "        {\"typescript\"},\n",
    "        {\"golang\"},\n",
    "        {\"c++\"},\n",
    "        {\"c#\"},\n",
    "        {\"c\", \"C (Programming Language)\"},\n",
    "        {\"ruby\", \"ruby or rails\"},\n",
    "        {\"perl\", \"Perl Script\"},\n",
    "        {\"Shell Scripting\"},\n",
    "        {\"Scala\"},\n",
    "        {\"Bash\"},\n",
    "    ],\n",
    "    \"backend_frameworks\": [\n",
    "        {\"ASP.NET\", \"ASP.NET Core\", \"ASP.NET MVC\", \".NET\", \".NET Framework\", \".NET Core\"},\n",
    "        {\"django\"},\n",
    "        {\"spring\", \"Spring Framework\", \"Spring MVC\", \"Spring Boot\"},\n",
    "        {\"laravel\"},\n",
    "        {\"Node.js\", \"Node\", \"Node js\"},\n",
    "        {\"Express.js\", \"Express\"},\n",
    "    ],\n",
    "    \"devops_technologies\": [\n",
    "        {\"kubernetes\"},\n",
    "        {\"docker\", \"Docker Products\"},\n",
    "        {\"elixir\"},\n",
    "        {\"ansible\"},\n",
    "        {\"openshift\"},\n",
    "        {\"google cloud platform\", \"Google Cloud Platform (GCP)\"},\n",
    "        {\"infrastructure\"},\n",
    "        {\"azure\", \"Azure DevOps\", \"Microsoft Azure\"},\n",
    "        {\"containerization\", \"Virtualization\"},\n",
    "        {\"aws\", \"amazon web services certified solutions architect\", \"Amazon CloudFront\", \"AWS Lambda\",\n",
    "         \"Amazon Redshift\", \"Amazon Web Services (AWS)\", \"AWS CloudFormation\"},\n",
    "        {\"jenkins\"},\n",
    "        {\"prometheus\"},\n",
    "        {\"helm chart\", \"Helm Charts\"},\n",
    "        {\"CI-CD\", \" Continuous Delivery\", \"Continuous Integration\", \"Continuous Improvement\"},\n",
    "        {\"cloud endure\", \"cloud migration\", \"cloud backup\", \"cloud computing\"},\n",
    "        {\"devops\"},\n",
    "    ],\n",
    "    \"frontend_frameworks\": [\n",
    "        {\"react\", \"React.js\", \"react hook\", \"react js\"},\n",
    "        {\"vuejs\", \"vue.js\"},\n",
    "        {\"angular\", \"angularjs\", \"Angular Material\", \"Angular 6\"},\n",
    "        {\"redux\", \"Redux.js\"},\n",
    "        {\"ajax\"},\n",
    "        {\"jquery\"},\n",
    "        {\"nextjs\"},\n",
    "        {\"bootstrap\"},\n",
    "        {\"React Native\"},\n",
    "    ],\n",
    "    \"system_design_skills\": [\n",
    "        {\"mobile application\", \"mobile applications\"},\n",
    "        {\"oop\", \"Object-Oriented Programming (OOP)\", \"Object Oriented Design\"},\n",
    "        {\"design patterns\", \"software design patterns\", \"Software Design\"},\n",
    "        {\"Systems Engineering\", \"Distributed Systems\"},\n",
    "        {\"programming\"},\n",
    "        {\"software engineering\"},\n",
    "        {\"algorithm\", \"algorithms\"},\n",
    "        {\"web development\"},\n",
    "        {\"web applications\", \"Web Application Firewall\", \"Web Services\", \"Web Application Security\"},\n",
    "        {\"microservices\"},\n",
    "        {\"unit testing\"},\n",
    "        {\"data structures\"},\n",
    "        {\"grpc\"},\n",
    "        {\"Software Testing\", \"Test Driven Development\", \"Test Automation\"},\n",
    "        {\"Graph Theory\"},\n",
    "        {\"Unified Modeling Language (UML)\", \"uml\"}\n",
    "    ],\n",
    "    \"version_controls\": [\n",
    "        {\"git\", \"gitflow\", \"Gitlab\", \"Github\"},\n",
    "    ],\n",
    "    \"ui-ux\": [\n",
    "        {\"graphic design\", \"Computer Graphics\"},\n",
    "        {\"illustrator\"},\n",
    "        {\"figma\"},\n",
    "        {\"adobe xd\"},\n",
    "        {\"photoshop\", \"adobe photoshop\"},\n",
    "        {\"ui-ux\", \"User Interface Design\", \"User Experience (UX)\", \"Ui Designer\", \"Ux design\",\n",
    "         \"User Interface Prototyping\"},\n",
    "        {\"Google Material Design\"},\n",
    "    ],\n",
    "    \"data_related\": [\n",
    "        {\"data-integration\"},\n",
    "        {\"big data\", \"Big Data Analytics\"},\n",
    "        {\"data\"},\n",
    "        {\"spark\", \"Apache Spark\"},\n",
    "        {\"Information Retrieval\"},\n",
    "        {\"Data Visualization\"},\n",
    "        {\"Selenium\"},\n",
    "    ],\n",
    "    \"databases\": [\n",
    "        {\"data migration\"},\n",
    "        {\"mongodb\"},\n",
    "        {\"database design\"},\n",
    "        {\"nosql\"},\n",
    "        {\"mysql\"},\n",
    "        {\"postgresql\"},\n",
    "        {\"sqlite\"},\n",
    "        {\"graphql\"},\n",
    "        {\"elasticsearch\", \"Elastic Stack (ELK)\"},\n",
    "        {\"redis\"},\n",
    "        {\"data center\"},\n",
    "        {\"mariadb\"},\n",
    "        {\"oracle\"},\n",
    "        {\"SQLite\"},\n",
    "        {\"sql\", \"Microsoft SQL Server\", \"SQL Server Management Studio\"},\n",
    "    ],\n",
    "    \"ai_modeling\": [\n",
    "        {\"Artificial Intelligence (AI)\", \"AI\", \"Artificial Intelligence\"},\n",
    "        {\"regression testing\"},\n",
    "        {\"predictive modeling\"},\n",
    "        {\"Machine Learning\", \"Machine Learning Algorithms\"},\n",
    "        {\"image processing\"},\n",
    "        {\"data science\"},\n",
    "        {\"NLP\", \"Natural Language Processing (NLP)\"},\n",
    "        {\"data modeling\"},\n",
    "        {\"computer vision\"},\n",
    "        {\"big data\"},\n",
    "        {\"deep learning\"},\n",
    "        {\"data mining\"},\n",
    "        {\"Data Analysis\"},\n",
    "    ],\n",
    "    \"ai_frameworks\": [\n",
    "        {\"pandas\"},\n",
    "        {\"pytorch\"},\n",
    "        {\"keras\"},\n",
    "        {\"tensorflow\"},\n",
    "        {\"scikit-learn\"},\n",
    "        {\"seaborn\"},\n",
    "    ],\n",
    "    \"network_skills\": [\n",
    "        {\"Dynamic Host Configuration Protocol (DHCP)\"},\n",
    "        {\"Domain Name System (DNS)\"},\n",
    "        {\"routing protocols\", \"Routing\"},\n",
    "        {\"Routers\"},\n",
    "        {\"cisco\"},\n",
    "        {\"wireless\"},\n",
    "        {\"vpn\", \"SSLVPN\"},\n",
    "        {\"switching\"},\n",
    "        {\"dhcp server\"},\n",
    "        {\"network security\"},\n",
    "        {\"lan-wan\"},\n",
    "        {\"hacking\"},\n",
    "        {\"cybersecurity\"},\n",
    "        {\"penetration test\", \"Penetration Testing\"},\n",
    "        {\"network administration\", \"Server Administration\", \"Networking\", \"Computer Networking\"},\n",
    "        {\"network security\"},\n",
    "        {\"ip\"},\n",
    "        {\"TCP/IP\"},\n",
    "    ],\n",
    "    \"message_brokers\": [\n",
    "        {\"apache kafka\"},\n",
    "        {\"rabbitmq\"},\n",
    "    ],\n",
    "    \"hardware_skills\": [\n",
    "        {\"FPGA\", \"Field-Programmable Gate Arrays (FPGA)\"},\n",
    "        {\"PCB design\", \"Printed Circuit Board (PCB)\"},\n",
    "        {\"VLSI\", \"Very-Large-Scale Integration (VLSI)\"},\n",
    "        {\"IOT\"},\n",
    "        {\"circuit design\", \"Electronic Circuit Design\"},\n",
    "        {\"embedded\"},\n",
    "        {\"Computer Architecture\"},\n",
    "        {\"PSpice\"},\n",
    "        {\"microcontroller\"},\n",
    "        {\"Controller Area Network (CAN)\"},\n",
    "        {\"signal processing\"},\n",
    "        {\"raspberry pi\"},\n",
    "        {\"verilog\"},\n",
    "        {\"stm32\"},\n",
    "        {\"ARM\"},\n",
    "        {\"xilinx\"},\n",
    "        {\"arduino\"},\n",
    "        {\"simulink\"},\n",
    "        {\"matlab\"},\n",
    "        {\"VHDL\"},\n",
    "        {\"proteus\"},\n",
    "    ],\n",
    "    \"os\": [\n",
    "        {\"linux\", \"Red Hat Linux\", \"Linux Kernel\", \"Arch Linux\", \"Kali Linux\"},\n",
    "        {\"vmware\", \"VMware Infrastructure\"},\n",
    "        {\"Windows Server\", \"Windows\"},\n",
    "    ]\n",
    "}"
   ],
   "metadata": {
    "collapsed": false,
    "pycharm": {
     "name": "#%%\n"
    }
   }
  },
  {
   "cell_type": "markdown",
   "source": [
    "## Education Categories"
   ],
   "metadata": {
    "collapsed": false,
    "pycharm": {
     "name": "#%% md\n"
    }
   }
  },
  {
   "cell_type": "code",
   "execution_count": 23,
   "outputs": [],
   "source": [
    "EDUCATIONS = [\n",
    "    \"bachelor-computer engineering\",\n",
    "    \"master-computer engineering\",\n",
    "    \"phd-computer engineering\",\n",
    "    \"others\",\n",
    "]"
   ],
   "metadata": {
    "collapsed": false,
    "pycharm": {
     "name": "#%%\n"
    }
   }
  },
  {
   "cell_type": "markdown",
   "source": [
    "## Experience Categories"
   ],
   "metadata": {
    "collapsed": false,
    "pycharm": {
     "name": "#%% md\n"
    }
   }
  },
  {
   "cell_type": "code",
   "execution_count": 24,
   "outputs": [],
   "source": [
    "EXPERIENCES = [\n",
    "    \"mobile developer\",  #0\n",
    "    \"data scientist\",  #1\n",
    "    \"ui-ux designer\",  #2\n",
    "    \"network engineer\",  #3\n",
    "    \"data engineer\",  #4\n",
    "    \"software engineer\",  #5\n",
    "    \"full stack developer\",  #6\n",
    "    \"frontend developer\",  #7\n",
    "    \"hardware engineer\",  #8\n",
    "    \"devops engineer\",  #9\n",
    "    \"database administrator\",  #10\n",
    "    \"others\",  #11\n",
    "]"
   ],
   "metadata": {
    "collapsed": false,
    "pycharm": {
     "name": "#%%\n"
    }
   }
  },
  {
   "cell_type": "markdown",
   "source": [
    "## Create conditions"
   ],
   "metadata": {
    "collapsed": false,
    "pycharm": {
     "name": "#%% md\n"
    }
   }
  },
  {
   "cell_type": "code",
   "execution_count": 27,
   "outputs": [
    {
     "name": "stdout",
     "output_type": "stream",
     "text": [
      "i: 0, programming: Java\n",
      "i: 10, programming: JavaScript\n",
      "i: 15, programming: C++\n",
      "3\n",
      "0\n",
      "i: 10, programming: JavaScript\n",
      "1\n",
      "i: 17, programming: C\n",
      "i: 5, programming: Matlab\n",
      "2\n",
      "0\n"
     ]
    },
    {
     "data": {
      "text/plain": "          full name  backend_frameworks  frontend_frameworks  \\\n0       Evelio Sosa            0.000000             0.222222   \n1   Jyothi Vutukuri            0.000000             0.000000   \n2     Swarnava Basu            0.166667             0.111111   \n3    Adhira Deogade            0.000000             0.000000   \n4          Vikesh .            0.000000             0.000000   \n5       Evelio Sosa            0.000000             0.222222   \n6   Jyothi Vutukuri            0.000000             0.000000   \n7     Swarnava Basu            0.166667             0.111111   \n8    Adhira Deogade            0.000000             0.000000   \n9          Vikesh .            0.000000             0.000000   \n10      Evelio Sosa            0.000000             0.222222   \n11  Jyothi Vutukuri            0.000000             0.000000   \n12    Swarnava Basu            0.166667             0.111111   \n13   Adhira Deogade            0.000000             0.000000   \n14         Vikesh .            0.000000             0.000000   \n\n    programming_languages  devops_technologies  version_controls  ui-ux  \\\n0                0.130435               0.0000               0.0    0.0   \n1                0.000000               0.3750               1.0    0.0   \n2                0.043478               0.1250               0.0    0.0   \n3                0.086957               0.0625               1.0    0.0   \n4                0.000000               0.1250               0.0    0.0   \n5                0.130435               0.0000               0.0    0.0   \n6                0.000000               0.3750               1.0    0.0   \n7                0.043478               0.1250               0.0    0.0   \n8                0.086957               0.0625               1.0    0.0   \n9                0.000000               0.1250               0.0    0.0   \n10               0.130435               0.0000               0.0    0.0   \n11               0.000000               0.3750               1.0    0.0   \n12               0.043478               0.1250               0.0    0.0   \n13               0.086957               0.0625               1.0    0.0   \n14               0.000000               0.1250               0.0    0.0   \n\n    system_design_skills  databases  ai_models  ...  data engineer  \\\n0                  0.000        0.0        0.0  ...              0   \n1                  0.000        0.0        0.0  ...              0   \n2                  0.000        0.0        0.0  ...              0   \n3                  0.125        0.0        0.0  ...              0   \n4                  0.000        0.0        0.0  ...              0   \n5                  0.000        0.0        0.0  ...              0   \n6                  0.000        0.0        0.0  ...              0   \n7                  0.000        0.0        0.0  ...              0   \n8                  0.125        0.0        0.0  ...              0   \n9                  0.000        0.0        0.0  ...              0   \n10                 0.000        0.0        0.0  ...              0   \n11                 0.000        0.0        0.0  ...              0   \n12                 0.000        0.0        0.0  ...              0   \n13                 0.125        0.0        0.0  ...              0   \n14                 0.000        0.0        0.0  ...              0   \n\n    software engineer  full stack developer  frontend developer  \\\n0                   0                     0                   0   \n1                   0                     0                   0   \n2                   3                     0                   0   \n3                   0                     0                   0   \n4                   1                     0                   0   \n5                   0                     0                   0   \n6                   0                     0                   0   \n7                   3                     0                   0   \n8                   0                     0                   0   \n9                   1                     0                   0   \n10                  0                     0                   0   \n11                  0                     0                   0   \n12                  3                     0                   0   \n13                  0                     0                   0   \n14                  1                     0                   0   \n\n    hardware engineer devops engineer database administrator  \\\n0                   0               0                      0   \n1                   0               1                      0   \n2                   0               0                      0   \n3                   0               1                      0   \n4                   0               0                      0   \n5                   0               0                      0   \n6                   0               1                      0   \n7                   0               0                      0   \n8                   0               1                      0   \n9                   0               0                      0   \n10                  0               0                      0   \n11                  0               1                      0   \n12                  0               0                      0   \n13                  0               1                      0   \n14                  0               0                      0   \n\n   other experiences current experience data_related  \n0                  0                             0.0  \n1                  0    devops engineer          0.0  \n2                  2    devops engineer          0.0  \n3                  1    devops engineer          0.0  \n4                  2    devops engineer          0.0  \n5                  0                             0.0  \n6                  0    devops engineer          0.0  \n7                  2    devops engineer          0.0  \n8                  1    devops engineer          0.0  \n9                  2    devops engineer          0.0  \n10                 0                             0.0  \n11                 0    devops engineer          0.0  \n12                 2    devops engineer          0.0  \n13                 1    devops engineer          0.0  \n14                 2    devops engineer          0.0  \n\n[15 rows x 33 columns]",
      "text/html": "<div>\n<style scoped>\n    .dataframe tbody tr th:only-of-type {\n        vertical-align: middle;\n    }\n\n    .dataframe tbody tr th {\n        vertical-align: top;\n    }\n\n    .dataframe thead th {\n        text-align: right;\n    }\n</style>\n<table border=\"1\" class=\"dataframe\">\n  <thead>\n    <tr style=\"text-align: right;\">\n      <th></th>\n      <th>full name</th>\n      <th>backend_frameworks</th>\n      <th>frontend_frameworks</th>\n      <th>programming_languages</th>\n      <th>devops_technologies</th>\n      <th>version_controls</th>\n      <th>ui-ux</th>\n      <th>system_design_skills</th>\n      <th>databases</th>\n      <th>ai_models</th>\n      <th>...</th>\n      <th>data engineer</th>\n      <th>software engineer</th>\n      <th>full stack developer</th>\n      <th>frontend developer</th>\n      <th>hardware engineer</th>\n      <th>devops engineer</th>\n      <th>database administrator</th>\n      <th>other experiences</th>\n      <th>current experience</th>\n      <th>data_related</th>\n    </tr>\n  </thead>\n  <tbody>\n    <tr>\n      <th>0</th>\n      <td>Evelio Sosa</td>\n      <td>0.000000</td>\n      <td>0.222222</td>\n      <td>0.130435</td>\n      <td>0.0000</td>\n      <td>0.0</td>\n      <td>0.0</td>\n      <td>0.000</td>\n      <td>0.0</td>\n      <td>0.0</td>\n      <td>...</td>\n      <td>0</td>\n      <td>0</td>\n      <td>0</td>\n      <td>0</td>\n      <td>0</td>\n      <td>0</td>\n      <td>0</td>\n      <td>0</td>\n      <td></td>\n      <td>0.0</td>\n    </tr>\n    <tr>\n      <th>1</th>\n      <td>Jyothi Vutukuri</td>\n      <td>0.000000</td>\n      <td>0.000000</td>\n      <td>0.000000</td>\n      <td>0.3750</td>\n      <td>1.0</td>\n      <td>0.0</td>\n      <td>0.000</td>\n      <td>0.0</td>\n      <td>0.0</td>\n      <td>...</td>\n      <td>0</td>\n      <td>0</td>\n      <td>0</td>\n      <td>0</td>\n      <td>0</td>\n      <td>1</td>\n      <td>0</td>\n      <td>0</td>\n      <td>devops engineer</td>\n      <td>0.0</td>\n    </tr>\n    <tr>\n      <th>2</th>\n      <td>Swarnava Basu</td>\n      <td>0.166667</td>\n      <td>0.111111</td>\n      <td>0.043478</td>\n      <td>0.1250</td>\n      <td>0.0</td>\n      <td>0.0</td>\n      <td>0.000</td>\n      <td>0.0</td>\n      <td>0.0</td>\n      <td>...</td>\n      <td>0</td>\n      <td>3</td>\n      <td>0</td>\n      <td>0</td>\n      <td>0</td>\n      <td>0</td>\n      <td>0</td>\n      <td>2</td>\n      <td>devops engineer</td>\n      <td>0.0</td>\n    </tr>\n    <tr>\n      <th>3</th>\n      <td>Adhira Deogade</td>\n      <td>0.000000</td>\n      <td>0.000000</td>\n      <td>0.086957</td>\n      <td>0.0625</td>\n      <td>1.0</td>\n      <td>0.0</td>\n      <td>0.125</td>\n      <td>0.0</td>\n      <td>0.0</td>\n      <td>...</td>\n      <td>0</td>\n      <td>0</td>\n      <td>0</td>\n      <td>0</td>\n      <td>0</td>\n      <td>1</td>\n      <td>0</td>\n      <td>1</td>\n      <td>devops engineer</td>\n      <td>0.0</td>\n    </tr>\n    <tr>\n      <th>4</th>\n      <td>Vikesh .</td>\n      <td>0.000000</td>\n      <td>0.000000</td>\n      <td>0.000000</td>\n      <td>0.1250</td>\n      <td>0.0</td>\n      <td>0.0</td>\n      <td>0.000</td>\n      <td>0.0</td>\n      <td>0.0</td>\n      <td>...</td>\n      <td>0</td>\n      <td>1</td>\n      <td>0</td>\n      <td>0</td>\n      <td>0</td>\n      <td>0</td>\n      <td>0</td>\n      <td>2</td>\n      <td>devops engineer</td>\n      <td>0.0</td>\n    </tr>\n    <tr>\n      <th>5</th>\n      <td>Evelio Sosa</td>\n      <td>0.000000</td>\n      <td>0.222222</td>\n      <td>0.130435</td>\n      <td>0.0000</td>\n      <td>0.0</td>\n      <td>0.0</td>\n      <td>0.000</td>\n      <td>0.0</td>\n      <td>0.0</td>\n      <td>...</td>\n      <td>0</td>\n      <td>0</td>\n      <td>0</td>\n      <td>0</td>\n      <td>0</td>\n      <td>0</td>\n      <td>0</td>\n      <td>0</td>\n      <td></td>\n      <td>0.0</td>\n    </tr>\n    <tr>\n      <th>6</th>\n      <td>Jyothi Vutukuri</td>\n      <td>0.000000</td>\n      <td>0.000000</td>\n      <td>0.000000</td>\n      <td>0.3750</td>\n      <td>1.0</td>\n      <td>0.0</td>\n      <td>0.000</td>\n      <td>0.0</td>\n      <td>0.0</td>\n      <td>...</td>\n      <td>0</td>\n      <td>0</td>\n      <td>0</td>\n      <td>0</td>\n      <td>0</td>\n      <td>1</td>\n      <td>0</td>\n      <td>0</td>\n      <td>devops engineer</td>\n      <td>0.0</td>\n    </tr>\n    <tr>\n      <th>7</th>\n      <td>Swarnava Basu</td>\n      <td>0.166667</td>\n      <td>0.111111</td>\n      <td>0.043478</td>\n      <td>0.1250</td>\n      <td>0.0</td>\n      <td>0.0</td>\n      <td>0.000</td>\n      <td>0.0</td>\n      <td>0.0</td>\n      <td>...</td>\n      <td>0</td>\n      <td>3</td>\n      <td>0</td>\n      <td>0</td>\n      <td>0</td>\n      <td>0</td>\n      <td>0</td>\n      <td>2</td>\n      <td>devops engineer</td>\n      <td>0.0</td>\n    </tr>\n    <tr>\n      <th>8</th>\n      <td>Adhira Deogade</td>\n      <td>0.000000</td>\n      <td>0.000000</td>\n      <td>0.086957</td>\n      <td>0.0625</td>\n      <td>1.0</td>\n      <td>0.0</td>\n      <td>0.125</td>\n      <td>0.0</td>\n      <td>0.0</td>\n      <td>...</td>\n      <td>0</td>\n      <td>0</td>\n      <td>0</td>\n      <td>0</td>\n      <td>0</td>\n      <td>1</td>\n      <td>0</td>\n      <td>1</td>\n      <td>devops engineer</td>\n      <td>0.0</td>\n    </tr>\n    <tr>\n      <th>9</th>\n      <td>Vikesh .</td>\n      <td>0.000000</td>\n      <td>0.000000</td>\n      <td>0.000000</td>\n      <td>0.1250</td>\n      <td>0.0</td>\n      <td>0.0</td>\n      <td>0.000</td>\n      <td>0.0</td>\n      <td>0.0</td>\n      <td>...</td>\n      <td>0</td>\n      <td>1</td>\n      <td>0</td>\n      <td>0</td>\n      <td>0</td>\n      <td>0</td>\n      <td>0</td>\n      <td>2</td>\n      <td>devops engineer</td>\n      <td>0.0</td>\n    </tr>\n    <tr>\n      <th>10</th>\n      <td>Evelio Sosa</td>\n      <td>0.000000</td>\n      <td>0.222222</td>\n      <td>0.130435</td>\n      <td>0.0000</td>\n      <td>0.0</td>\n      <td>0.0</td>\n      <td>0.000</td>\n      <td>0.0</td>\n      <td>0.0</td>\n      <td>...</td>\n      <td>0</td>\n      <td>0</td>\n      <td>0</td>\n      <td>0</td>\n      <td>0</td>\n      <td>0</td>\n      <td>0</td>\n      <td>0</td>\n      <td></td>\n      <td>0.0</td>\n    </tr>\n    <tr>\n      <th>11</th>\n      <td>Jyothi Vutukuri</td>\n      <td>0.000000</td>\n      <td>0.000000</td>\n      <td>0.000000</td>\n      <td>0.3750</td>\n      <td>1.0</td>\n      <td>0.0</td>\n      <td>0.000</td>\n      <td>0.0</td>\n      <td>0.0</td>\n      <td>...</td>\n      <td>0</td>\n      <td>0</td>\n      <td>0</td>\n      <td>0</td>\n      <td>0</td>\n      <td>1</td>\n      <td>0</td>\n      <td>0</td>\n      <td>devops engineer</td>\n      <td>0.0</td>\n    </tr>\n    <tr>\n      <th>12</th>\n      <td>Swarnava Basu</td>\n      <td>0.166667</td>\n      <td>0.111111</td>\n      <td>0.043478</td>\n      <td>0.1250</td>\n      <td>0.0</td>\n      <td>0.0</td>\n      <td>0.000</td>\n      <td>0.0</td>\n      <td>0.0</td>\n      <td>...</td>\n      <td>0</td>\n      <td>3</td>\n      <td>0</td>\n      <td>0</td>\n      <td>0</td>\n      <td>0</td>\n      <td>0</td>\n      <td>2</td>\n      <td>devops engineer</td>\n      <td>0.0</td>\n    </tr>\n    <tr>\n      <th>13</th>\n      <td>Adhira Deogade</td>\n      <td>0.000000</td>\n      <td>0.000000</td>\n      <td>0.086957</td>\n      <td>0.0625</td>\n      <td>1.0</td>\n      <td>0.0</td>\n      <td>0.125</td>\n      <td>0.0</td>\n      <td>0.0</td>\n      <td>...</td>\n      <td>0</td>\n      <td>0</td>\n      <td>0</td>\n      <td>0</td>\n      <td>0</td>\n      <td>1</td>\n      <td>0</td>\n      <td>1</td>\n      <td>devops engineer</td>\n      <td>0.0</td>\n    </tr>\n    <tr>\n      <th>14</th>\n      <td>Vikesh .</td>\n      <td>0.000000</td>\n      <td>0.000000</td>\n      <td>0.000000</td>\n      <td>0.1250</td>\n      <td>0.0</td>\n      <td>0.0</td>\n      <td>0.000</td>\n      <td>0.0</td>\n      <td>0.0</td>\n      <td>...</td>\n      <td>0</td>\n      <td>1</td>\n      <td>0</td>\n      <td>0</td>\n      <td>0</td>\n      <td>0</td>\n      <td>0</td>\n      <td>2</td>\n      <td>devops engineer</td>\n      <td>0.0</td>\n    </tr>\n  </tbody>\n</table>\n<p>15 rows × 33 columns</p>\n</div>"
     },
     "execution_count": 27,
     "metadata": {},
     "output_type": "execute_result"
    }
   ],
   "source": [
    "for index, row in data.iterrows():\n",
    "    if index > 4:\n",
    "        break\n",
    "    # counter for skills\n",
    "    counter_skills_programming = 0\n",
    "    counter_skills_backend = 0\n",
    "    counter_skills_devops = 0\n",
    "    counter_skills_frontend = 0\n",
    "    counter_skills_system_design = 0\n",
    "    counter_skills_version_control = 0\n",
    "    counter_skills_ui_ux = 0\n",
    "    counter_skills_data_related = 0\n",
    "    counter_skills_databases = 0\n",
    "    counter_skills_ai_modeling = 0\n",
    "    counter_skills_ai_frameworks = 0\n",
    "    counter_skills_network = 0\n",
    "    counter_skills_message_brokers = 0\n",
    "    counter_skills_hardware = 0\n",
    "    counter_skills_os = 0\n",
    "    # counter for educations\n",
    "    counter_educations_bachelor = 0\n",
    "    counter_educations_master = 0\n",
    "    counter_educations_phd = 0\n",
    "    counter_educations_other_majors = 0\n",
    "    # counter for experiences\n",
    "    counter_mobile_developer = 0\n",
    "    counter_data_scientist = 0\n",
    "    counter_ui_ux_designer = 0\n",
    "    counter_network_engineer = 0\n",
    "    counter_data_engineer = 0\n",
    "    counter_software_engineer = 0\n",
    "    counter_fullstack_developer = 0\n",
    "    counter_frontend_developer = 0\n",
    "    counter_hardware_engineer = 0\n",
    "    counter_devops_engineer = 0\n",
    "    counter_database_administrator = 0\n",
    "    counter_other_experiences = 0\n",
    "    current_job = \"\"\n",
    "\n",
    "    # Full name\n",
    "    name = row[\"Full Name\"]\n",
    "\n",
    "    # Skills\n",
    "    for itemSkill in row[\"Skills\"]:\n",
    "        # programming_languages\n",
    "        for i in range(len(SKILL_BUCKETS[\"programming_languages\"])):\n",
    "            if itemSkill.lower() in SKILL_BUCKETS[\"programming_languages\"][i]:\n",
    "                print(f\"i: {i}, programming: {itemSkill}\")\n",
    "                counter_skills_programming += 1\n",
    "\n",
    "        for i in range(len(SKILL_BUCKETS[\"backend_frameworks\"])):\n",
    "            if itemSkill.lower() in SKILL_BUCKETS[\"backend_frameworks\"][i]:\n",
    "                counter_skills_backend += 1\n",
    "\n",
    "        for i in range(len(SKILL_BUCKETS[\"devops_technologies\"])):\n",
    "            if itemSkill.lower() in SKILL_BUCKETS[\"devops_technologies\"][i]:\n",
    "                counter_skills_devops += 1\n",
    "\n",
    "        for i in range(len(SKILL_BUCKETS[\"frontend_frameworks\"])):\n",
    "            if itemSkill.lower() in SKILL_BUCKETS[\"frontend_frameworks\"][i]:\n",
    "                counter_skills_frontend += 1\n",
    "\n",
    "        for i in range(len(SKILL_BUCKETS[\"system_design_skills\"])):\n",
    "            if itemSkill.lower() in SKILL_BUCKETS[\"system_design_skills\"][i]:\n",
    "                counter_skills_system_design += 1\n",
    "\n",
    "        for i in range(len(SKILL_BUCKETS[\"version_controls\"])):\n",
    "            if itemSkill.lower() in SKILL_BUCKETS[\"version_controls\"][i]:\n",
    "                counter_skills_version_control += 1\n",
    "\n",
    "        for i in range(len(SKILL_BUCKETS[\"ui-ux\"])):\n",
    "            if itemSkill.lower() in SKILL_BUCKETS[\"ui-ux\"][i]:\n",
    "                counter_skills_ui_ux += 1\n",
    "\n",
    "        for i in range(len(SKILL_BUCKETS[\"data_related\"])):\n",
    "            if itemSkill.lower() in SKILL_BUCKETS[\"data_related\"][i]:\n",
    "                counter_skills_data_related += 1\n",
    "            #\n",
    "            # elif itemSkill.lower() in SKILL_BUCKETS[\"databases\"][i]:\n",
    "            #     counter_skills_databases += 1\n",
    "            # elif itemSkill.lower() in SKILL_BUCKETS[\"ai_modeling\"][i]:\n",
    "            #     counter_skills_ai_modeling += 1\n",
    "            # elif itemSkill.lower() in SKILL_BUCKETS[\"ai_frameworks\"][i]:\n",
    "            #     counter_skills_ai_frameworks += 1\n",
    "            # elif itemSkill.lower() in SKILL_BUCKETS[\"network_skills\"][i]:\n",
    "            #     counter_skills_network += 1\n",
    "            # elif itemSkill.lower() in SKILL_BUCKETS[\"message_brokers\"][i]:\n",
    "            #     counter_skills_message_brokers += 1\n",
    "            # elif itemSkill.lower() in SKILL_BUCKETS[\"hardware_skills\"][i]:\n",
    "            #     counter_skills_hardware += 1\n",
    "            # elif itemSkill.lower() in SKILL_BUCKETS[\"os\"][i]:\n",
    "            #     counter_skills_os += 1\n",
    "            # if ((SKILL_BUCKETS[\"programming_languages\"][i]).lower() in itemSkill.lower()) and abs(\n",
    "            #         len(itemSkill.lower()) - len(SKILL_BUCKETS[\"programming_languages\"][i])) < 3:\n",
    "            #     counter_skills_programming += 1\n",
    "            #     print(SKILL_BUCKETS[\"programming_languages\"][i], \" -- \", itemSkill, \" -- \", index)\n",
    "\n",
    "    # Educations\n",
    "    for itemEducation in row[\"Educations\"]:\n",
    "        if itemEducation[\"major\"] == EDUCATIONS[0]:\n",
    "            counter_educations_bachelor = 1\n",
    "        if itemEducation[\"major\"] == EDUCATIONS[1]:\n",
    "            counter_educations_master = 1\n",
    "        if itemEducation[\"major\"] == EDUCATIONS[2]:\n",
    "            counter_educations_phd = 1\n",
    "        if itemEducation[\"major\"] == EDUCATIONS[3]:\n",
    "            counter_educations_other_majors = 1\n",
    "\n",
    "    # Experiences\n",
    "    \"\"\"\n",
    "    Depending on the length of the experience, we build the model.\n",
    "    If the person has only 1 job, that will go to the output of the model.\n",
    "    If the person has more than one jobs, the last one is counted as model output and the rest are the input.\n",
    "    \"\"\"\n",
    "    for i in range(len(row[\"Experiences\"])):\n",
    "        if len(row[\"Experiences\"]) == 1:\n",
    "            current_job = (row[\"Experiences\"][i])[\"name\"]\n",
    "        else:\n",
    "            current_job = (row[\"Experiences\"][0])[\"name\"]\n",
    "            if i != 0:\n",
    "                if (row[\"Experiences\"][i])[\"name\"] == EXPERIENCES[0]:\n",
    "                    counter_mobile_developer += 1\n",
    "                if (row[\"Experiences\"][i])[\"name\"] == EXPERIENCES[1]:\n",
    "                    counter_data_scientist += 1\n",
    "                if (row[\"Experiences\"][i])[\"name\"] == EXPERIENCES[2]:\n",
    "                    counter_ui_ux_designer += 1\n",
    "                if (row[\"Experiences\"][i])[\"name\"] == EXPERIENCES[3]:\n",
    "                    counter_network_engineer += 1\n",
    "                if (row[\"Experiences\"][i])[\"name\"] == EXPERIENCES[4]:\n",
    "                    counter_data_engineer += 1\n",
    "                if (row[\"Experiences\"][i])[\"name\"] == EXPERIENCES[5]:\n",
    "                    counter_software_engineer += 1\n",
    "                if (row[\"Experiences\"][i])[\"name\"] == EXPERIENCES[6]:\n",
    "                    counter_frontend_developer += 1\n",
    "                if (row[\"Experiences\"][i])[\"name\"] == EXPERIENCES[7]:\n",
    "                    counter_frontend_developer += 1\n",
    "                if (row[\"Experiences\"][i])[\"name\"] == EXPERIENCES[8]:\n",
    "                    counter_hardware_engineer += 1\n",
    "                if (row[\"Experiences\"][i])[\"name\"] == EXPERIENCES[9]:\n",
    "                    counter_devops_engineer += 1\n",
    "                if (row[\"Experiences\"][i])[\"name\"] == EXPERIENCES[10]:\n",
    "                    counter_database_administrator += 1\n",
    "                if (row[\"Experiences\"][i])[\"name\"] == EXPERIENCES[11]:\n",
    "                    counter_other_experiences += 1\n",
    "\n",
    "    # Appending to the dataframe\n",
    "    model_df = model_df.append({\n",
    "        # full name\n",
    "        \"full name\": name,\n",
    "        # skills\n",
    "        'programming_languages': counter_skills_programming / len(SKILL_BUCKETS[\"programming_languages\"]),\n",
    "        \"backend_frameworks\": counter_skills_backend / len(SKILL_BUCKETS[\"backend_frameworks\"]),\n",
    "        \"devops_technologies\": counter_skills_devops / len(SKILL_BUCKETS[\"devops_technologies\"]),\n",
    "        \"frontend_frameworks\": counter_skills_frontend / len(SKILL_BUCKETS[\"frontend_frameworks\"]),\n",
    "        \"system_design_skills\": counter_skills_system_design / len(SKILL_BUCKETS[\"system_design_skills\"]),\n",
    "        \"version_controls\": counter_skills_version_control / len(SKILL_BUCKETS[\"version_controls\"]),\n",
    "        \"ui-ux\": counter_skills_ui_ux / len(SKILL_BUCKETS[\"ui-ux\"]),\n",
    "        \"data_related\": counter_skills_data_related / len(SKILL_BUCKETS[\"data_related\"]),\n",
    "        \"databases\": counter_skills_databases / len(SKILL_BUCKETS[\"databases\"]),\n",
    "        \"ai_models\": counter_skills_ai_modeling / len(SKILL_BUCKETS[\"ai_modeling\"]),\n",
    "        \"ai_frameworks\": counter_skills_ai_frameworks / len(SKILL_BUCKETS[\"ai_frameworks\"]),\n",
    "        \"network_skills\": counter_skills_network / len(SKILL_BUCKETS[\"network_skills\"]),\n",
    "        \"hardware_skills\": counter_skills_hardware / len(SKILL_BUCKETS[\"hardware_skills\"]),\n",
    "        \"message_brokers\": counter_skills_message_brokers / len(SKILL_BUCKETS[\"message_brokers\"]),\n",
    "        \"os\": counter_skills_os / len(SKILL_BUCKETS[\"os\"]),\n",
    "        # education\n",
    "        'bachelor-computer engineering': counter_educations_bachelor,\n",
    "        \"master-computer engineering\": counter_educations_master,\n",
    "        \"phd-computer engineering\": counter_educations_phd,\n",
    "        \"other-majors\": counter_educations_other_majors,\n",
    "        # experience\n",
    "        \"mobile developer\": counter_mobile_developer,\n",
    "        \"data scientist\": counter_data_scientist,\n",
    "        \"ui-ux designer\": counter_ui_ux_designer,\n",
    "        \"network engineer\": counter_network_engineer,\n",
    "        \"data engineer\": counter_data_engineer,\n",
    "        \"software engineer\": counter_software_engineer,\n",
    "        \"full stack developer\": counter_fullstack_developer,\n",
    "        \"frontend developer\": counter_frontend_developer,\n",
    "        \"hardware engineer\": counter_hardware_engineer,\n",
    "        \"devops engineer\": counter_devops_engineer,\n",
    "        \"database administrator\": counter_database_administrator,\n",
    "        \"other experiences\": counter_other_experiences,\n",
    "        # output\n",
    "        \"current experience\": current_job\n",
    "    }, ignore_index=True)\n",
    "    print(counter_skills_programming)\n",
    "model_df"
   ],
   "metadata": {
    "collapsed": false,
    "pycharm": {
     "name": "#%%\n"
    }
   }
  },
  {
   "cell_type": "code",
   "execution_count": 7,
   "outputs": [
    {
     "data": {
      "text/plain": "[{1, 2}, 3]"
     },
     "execution_count": 7,
     "metadata": {},
     "output_type": "execute_result"
    }
   ],
   "source": [
    "a = [\n",
    "    {1, 2},\n",
    "    3,\n",
    "]\n",
    "a"
   ],
   "metadata": {
    "collapsed": false,
    "pycharm": {
     "name": "#%%\n"
    }
   }
  },
  {
   "cell_type": "code",
   "execution_count": 12,
   "outputs": [
    {
     "name": "stdout",
     "output_type": "stream",
     "text": [
      "yes\n"
     ]
    }
   ],
   "source": [
    "a = [\n",
    "    {1, 2},\n",
    "    {3, 4}\n",
    "]\n",
    "\n",
    "for i in range(len(a)):\n",
    "    if 1 in a[i]:\n",
    "        print(\"yes\")"
   ],
   "metadata": {
    "collapsed": false,
    "pycharm": {
     "name": "#%%\n"
    }
   }
  },
  {
   "cell_type": "code",
   "execution_count": null,
   "outputs": [],
   "source": [],
   "metadata": {
    "collapsed": false,
    "pycharm": {
     "name": "#%%\n"
    }
   }
  }
 ],
 "metadata": {
  "kernelspec": {
   "display_name": "Python 3",
   "language": "python",
   "name": "python3"
  },
  "language_info": {
   "codemirror_mode": {
    "name": "ipython",
    "version": 2
   },
   "file_extension": ".py",
   "mimetype": "text/x-python",
   "name": "python",
   "nbconvert_exporter": "python",
   "pygments_lexer": "ipython2",
   "version": "2.7.6"
  }
 },
 "nbformat": 4,
 "nbformat_minor": 0
}