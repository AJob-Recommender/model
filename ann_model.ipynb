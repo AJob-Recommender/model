{
 "cells": [
  {
   "cell_type": "markdown",
   "source": [
    "## Importing Libraries"
   ],
   "metadata": {
    "collapsed": false,
    "pycharm": {
     "name": "#%% md\n"
    }
   }
  },
  {
   "cell_type": "code",
   "execution_count": 1,
   "outputs": [],
   "source": [
    "import numpy as np\n",
    "import pandas as pd"
   ],
   "metadata": {
    "collapsed": false,
    "pycharm": {
     "name": "#%%\n"
    }
   }
  },
  {
   "cell_type": "markdown",
   "source": [
    "## Importing the dataset"
   ],
   "metadata": {
    "collapsed": false,
    "pycharm": {
     "name": "#%% md\n"
    }
   }
  },
  {
   "cell_type": "code",
   "execution_count": 2,
   "outputs": [
    {
     "data": {
      "text/plain": "                                           Profile URL            Full Name  \\\n0             https://www.linkedin.com/in/evelio-sosa/          Evelio Sosa   \n1    https://www.linkedin.com/in/jyothi-vutukuri-a9...      Jyothi Vutukuri   \n2           https://www.linkedin.com/in/swarnava-basu/        Swarnava Basu   \n3           https://www.linkedin.com/in/adhiradeogade/       Adhira Deogade   \n4             https://www.linkedin.com/in/vikeshyadav/             Vikesh .   \n..                                                 ...                  ...   \n596       https://www.linkedin.com/in/hossein-assaran/      Hossein Assaran   \n597   https://www.linkedin.com/in/ali-rafiee-983ba088/           Ali Rafiee   \n598   https://www.linkedin.com/in/kian-emami-5b1708b7/           Kian Emami   \n599   https://www.linkedin.com/in/amir-hossein-binesh/  Amir hossein Binesh   \n600  https://www.linkedin.com/in/amirhosein-hajian-...    Amirhosein Hajian   \n\n                                           Experiences  \\\n0                                                   []   \n1    [{'name': 'devops engineer', 'place': 'IBM · F...   \n2    [{'name': 'devops engineer', 'place': 'Codelog...   \n3    [{'name': 'devops engineer', 'place': 'apple ·...   \n4    [{'name': 'devops engineer', 'place': 'Google ...   \n..                                                 ...   \n596  [{'name': 'hardware engineer', 'place': 'FavaM...   \n597  [{'name': 'hardware engineer', 'place': 'Rayan...   \n598  [{'name': 'hardware engineer', 'place': 'Alaem...   \n599  [{'name': 'hardware engineer', 'place': 'nove ...   \n600  [{'name': 'hardware engineer', 'place': 'Freel...   \n\n                                            Educations  \\\n0    [{'university': 'Texas A&amp;M University', 'm...   \n1    [{'university': 'Jawaharlal Nehru Technologica...   \n2    [{'university': 'Meghnad Saha Institute Of Tec...   \n3                                                   []   \n4    [{'university': 'Maharshi Dayanand University'...   \n..                                                 ...   \n596  [{'university': 'Shahed University', 'major': ...   \n597  [{'university': 'University of Tehran', 'major...   \n598      [{'university': 'IAUCTB', 'major': 'others'}]   \n599  [{'university': 'Sharif University of Technolo...   \n600  [{'university': 'Quchan University of Technolo...   \n\n                                                Skills  \n0    [HTML5, Cascading Style Sheets (CSS), Python (...  \n1    [Jenkins, Ansible, Git, AWS, Linux, Maven, She...  \n2    [Microsoft Azure, Amazon Web Services (AWS), G...  \n3    [Machine Learning, Python (Programming Languag...  \n4    [Amazon Web Services (AWS), DevOps, Linux Syst...  \n..                                                 ...  \n596  [C, C++, Qt, ARM, Software Development, Microc...  \n597  [Embedded Systems, Embedded Software, Electron...  \n598  [Programming, Software Development, GNU/Linux,...  \n599  [C++, Linux, ESP32 Microcontrollers, Arduino, ...  \n600  [C (Programming Language), STM32, Electronics,...  \n\n[601 rows x 5 columns]",
      "text/html": "<div>\n<style scoped>\n    .dataframe tbody tr th:only-of-type {\n        vertical-align: middle;\n    }\n\n    .dataframe tbody tr th {\n        vertical-align: top;\n    }\n\n    .dataframe thead th {\n        text-align: right;\n    }\n</style>\n<table border=\"1\" class=\"dataframe\">\n  <thead>\n    <tr style=\"text-align: right;\">\n      <th></th>\n      <th>Profile URL</th>\n      <th>Full Name</th>\n      <th>Experiences</th>\n      <th>Educations</th>\n      <th>Skills</th>\n    </tr>\n  </thead>\n  <tbody>\n    <tr>\n      <th>0</th>\n      <td>https://www.linkedin.com/in/evelio-sosa/</td>\n      <td>Evelio Sosa</td>\n      <td>[]</td>\n      <td>[{'university': 'Texas A&amp;amp;M University', 'm...</td>\n      <td>[HTML5, Cascading Style Sheets (CSS), Python (...</td>\n    </tr>\n    <tr>\n      <th>1</th>\n      <td>https://www.linkedin.com/in/jyothi-vutukuri-a9...</td>\n      <td>Jyothi Vutukuri</td>\n      <td>[{'name': 'devops engineer', 'place': 'IBM · F...</td>\n      <td>[{'university': 'Jawaharlal Nehru Technologica...</td>\n      <td>[Jenkins, Ansible, Git, AWS, Linux, Maven, She...</td>\n    </tr>\n    <tr>\n      <th>2</th>\n      <td>https://www.linkedin.com/in/swarnava-basu/</td>\n      <td>Swarnava Basu</td>\n      <td>[{'name': 'devops engineer', 'place': 'Codelog...</td>\n      <td>[{'university': 'Meghnad Saha Institute Of Tec...</td>\n      <td>[Microsoft Azure, Amazon Web Services (AWS), G...</td>\n    </tr>\n    <tr>\n      <th>3</th>\n      <td>https://www.linkedin.com/in/adhiradeogade/</td>\n      <td>Adhira Deogade</td>\n      <td>[{'name': 'devops engineer', 'place': 'apple ·...</td>\n      <td>[]</td>\n      <td>[Machine Learning, Python (Programming Languag...</td>\n    </tr>\n    <tr>\n      <th>4</th>\n      <td>https://www.linkedin.com/in/vikeshyadav/</td>\n      <td>Vikesh .</td>\n      <td>[{'name': 'devops engineer', 'place': 'Google ...</td>\n      <td>[{'university': 'Maharshi Dayanand University'...</td>\n      <td>[Amazon Web Services (AWS), DevOps, Linux Syst...</td>\n    </tr>\n    <tr>\n      <th>...</th>\n      <td>...</td>\n      <td>...</td>\n      <td>...</td>\n      <td>...</td>\n      <td>...</td>\n    </tr>\n    <tr>\n      <th>596</th>\n      <td>https://www.linkedin.com/in/hossein-assaran/</td>\n      <td>Hossein Assaran</td>\n      <td>[{'name': 'hardware engineer', 'place': 'FavaM...</td>\n      <td>[{'university': 'Shahed University', 'major': ...</td>\n      <td>[C, C++, Qt, ARM, Software Development, Microc...</td>\n    </tr>\n    <tr>\n      <th>597</th>\n      <td>https://www.linkedin.com/in/ali-rafiee-983ba088/</td>\n      <td>Ali Rafiee</td>\n      <td>[{'name': 'hardware engineer', 'place': 'Rayan...</td>\n      <td>[{'university': 'University of Tehran', 'major...</td>\n      <td>[Embedded Systems, Embedded Software, Electron...</td>\n    </tr>\n    <tr>\n      <th>598</th>\n      <td>https://www.linkedin.com/in/kian-emami-5b1708b7/</td>\n      <td>Kian Emami</td>\n      <td>[{'name': 'hardware engineer', 'place': 'Alaem...</td>\n      <td>[{'university': 'IAUCTB', 'major': 'others'}]</td>\n      <td>[Programming, Software Development, GNU/Linux,...</td>\n    </tr>\n    <tr>\n      <th>599</th>\n      <td>https://www.linkedin.com/in/amir-hossein-binesh/</td>\n      <td>Amir hossein Binesh</td>\n      <td>[{'name': 'hardware engineer', 'place': 'nove ...</td>\n      <td>[{'university': 'Sharif University of Technolo...</td>\n      <td>[C++, Linux, ESP32 Microcontrollers, Arduino, ...</td>\n    </tr>\n    <tr>\n      <th>600</th>\n      <td>https://www.linkedin.com/in/amirhosein-hajian-...</td>\n      <td>Amirhosein Hajian</td>\n      <td>[{'name': 'hardware engineer', 'place': 'Freel...</td>\n      <td>[{'university': 'Quchan University of Technolo...</td>\n      <td>[C (Programming Language), STM32, Electronics,...</td>\n    </tr>\n  </tbody>\n</table>\n<p>601 rows × 5 columns</p>\n</div>"
     },
     "execution_count": 2,
     "metadata": {},
     "output_type": "execute_result"
    }
   ],
   "source": [
    "data = pd.read_json(\"data/new-jobs/03-7-28-22/new_jobs-7-28-22.json\")\n",
    "data"
   ],
   "metadata": {
    "collapsed": false,
    "pycharm": {
     "name": "#%%\n"
    }
   }
  },
  {
   "cell_type": "markdown",
   "source": [
    "## creating new dataframe for the model"
   ],
   "metadata": {
    "collapsed": false,
    "pycharm": {
     "name": "#%% md\n"
    }
   }
  },
  {
   "cell_type": "code",
   "execution_count": 82,
   "outputs": [
    {
     "data": {
      "text/plain": "Empty DataFrame\nColumns: [full name, backend_frameworks, frontend_frameworks, programming_languages, devops_technologies, version_controls, ui-ux, system_design_skills, databases, ai_models, ai_frameworks, network_skills, hardware_skills, message_brokers, os, bachelor-computer engineering, master-computer engineering, phd-computer engineering, other-majors, mobile developer, data scientist, ui-ux designer, network engineer, data engineer, software engineer, full stack developer, frontend developer, hardware engineer, devops engineer, database administrator, other experiences, current experience]\nIndex: []\n\n[0 rows x 32 columns]",
      "text/html": "<div>\n<style scoped>\n    .dataframe tbody tr th:only-of-type {\n        vertical-align: middle;\n    }\n\n    .dataframe tbody tr th {\n        vertical-align: top;\n    }\n\n    .dataframe thead th {\n        text-align: right;\n    }\n</style>\n<table border=\"1\" class=\"dataframe\">\n  <thead>\n    <tr style=\"text-align: right;\">\n      <th></th>\n      <th>full name</th>\n      <th>backend_frameworks</th>\n      <th>frontend_frameworks</th>\n      <th>programming_languages</th>\n      <th>devops_technologies</th>\n      <th>version_controls</th>\n      <th>ui-ux</th>\n      <th>system_design_skills</th>\n      <th>databases</th>\n      <th>ai_models</th>\n      <th>...</th>\n      <th>network engineer</th>\n      <th>data engineer</th>\n      <th>software engineer</th>\n      <th>full stack developer</th>\n      <th>frontend developer</th>\n      <th>hardware engineer</th>\n      <th>devops engineer</th>\n      <th>database administrator</th>\n      <th>other experiences</th>\n      <th>current experience</th>\n    </tr>\n  </thead>\n  <tbody>\n  </tbody>\n</table>\n<p>0 rows × 32 columns</p>\n</div>"
     },
     "execution_count": 82,
     "metadata": {},
     "output_type": "execute_result"
    }
   ],
   "source": [
    "model_df = pd.DataFrame(columns=[\n",
    "    \"full name\",\n",
    "    # Skills\n",
    "    \"backend_frameworks\",\n",
    "    \"frontend_frameworks\",\n",
    "    \"programming_languages\",\n",
    "    \"devops_technologies\",\n",
    "    \"version_controls\",\n",
    "    \"ui-ux\",\n",
    "    \"system_design_skills\",\n",
    "    \"databases\",\n",
    "    \"ai_models\",\n",
    "    \"ai_frameworks\",\n",
    "    \"network_skills\",\n",
    "    \"hardware_skills\",\n",
    "    \"message_brokers\",\n",
    "    \"os\",\n",
    "    # Educations\n",
    "    \"bachelor-computer engineering\",\n",
    "    \"master-computer engineering\",\n",
    "    \"phd-computer engineering\",\n",
    "    \"other-majors\",\n",
    "    # Experiences\n",
    "    \"mobile developer\",\n",
    "    \"data scientist\",\n",
    "    \"ui-ux designer\",\n",
    "    \"network engineer\",\n",
    "    \"data engineer\",\n",
    "    \"software engineer\",\n",
    "    \"full stack developer\",\n",
    "    \"frontend developer\",\n",
    "    \"hardware engineer\",\n",
    "    \"devops engineer\",\n",
    "    \"database administrator\",\n",
    "    \"other experiences\",\n",
    "    # model output\n",
    "    \"current experience\",\n",
    "])\n",
    "model_df"
   ],
   "metadata": {
    "collapsed": false,
    "pycharm": {
     "name": "#%%\n"
    }
   }
  },
  {
   "cell_type": "markdown",
   "source": [
    "## Skill Buckets"
   ],
   "metadata": {
    "collapsed": false,
    "pycharm": {
     "name": "#%% md\n"
    }
   }
  },
  {
   "cell_type": "code",
   "execution_count": 83,
   "outputs": [],
   "source": [
    "SKILL_BUCKETS = {\n",
    "    \"programming_languages\": [\n",
    "        \"java\",\n",
    "        \"kotlin\",\n",
    "        \"xml\",\n",
    "        \"swift\",\n",
    "        \"android jetpack\",\n",
    "        \"android data binding\",\n",
    "        \"matlab\",\n",
    "        \"ios\",\n",
    "        \"r\",\n",
    "        \"python\",\n",
    "        \"php\",\n",
    "        \"javascript\",\n",
    "        \"HTML\",\n",
    "        \"CSS\",\n",
    "        \"typescript\",\n",
    "        \"golang\",\n",
    "        \"c++\",\n",
    "        \"c#\",\n",
    "        \"c\",\n",
    "    ],\n",
    "    \"backend_frameworks\": [\n",
    "        \"ASP .NET\",\n",
    "        \"django\",\n",
    "        \"spring\",\n",
    "        \"laravel\",\n",
    "    ],\n",
    "    \"devops_technologies\": [\n",
    "        \"kubernetes\",\n",
    "        \"docker\",\n",
    "        \"Node js\",\n",
    "        \"elixir\",\n",
    "        \"ansible\",\n",
    "        \"openshift\",\n",
    "        \"google cloud platform\",\n",
    "        \"infrastructure\",\n",
    "        \"azure\",\n",
    "        \"containerization\",\n",
    "        \"aws\",\n",
    "        \"jenkins\",\n",
    "        \"prometheus\",\n",
    "        \"helm chart\",\n",
    "        \"CI-CD\",\n",
    "        \"cloud endure\",\n",
    "        \"cloud migration\",\n",
    "        \"cloud backup\",\n",
    "        \"cloud computing\",\n",
    "        \"devops\",\n",
    "    ],\n",
    "    \"frontend_frameworks\": [\n",
    "        \"react\",\n",
    "        \"vuejs\",\n",
    "        \"angular\",\n",
    "        \"redux\",\n",
    "        \"ajax\",\n",
    "        \"jquery\",\n",
    "        \"nextjs\",\n",
    "        \"less\",\n",
    "        \"bootstrap\",\n",
    "    ],\n",
    "    \"system_design_skills\": [\n",
    "        \"mobile application\",\n",
    "        \"oop\",\n",
    "        \"design patterns\",\n",
    "        \"software engineering\",\n",
    "        \"algorithm\",\n",
    "        \"web development\",\n",
    "        \"microservices\",\n",
    "        \"unit testing\",\n",
    "        \"data structure\",\n",
    "        \"grpc\",\n",
    "    ],\n",
    "    \"version_controls\": [\n",
    "        \"git\"\n",
    "    ],\n",
    "    \"ui-ux\": [\n",
    "        \"graphic design\",\n",
    "        \"illustrator\",\n",
    "        \"figma\",\n",
    "        \"adobe xd\",\n",
    "        \"photoshop\",\n",
    "        \"ui-ux\",\n",
    "    ],\n",
    "    \"data_related\": [\n",
    "        \"data-integration\",\n",
    "        \"big data\",\n",
    "        \"data\",\n",
    "        \"spark\",\n",
    "    ],\n",
    "    \"databases\": [\n",
    "        \"data migration\",\n",
    "        \"mongodb\",\n",
    "        \"database design\",\n",
    "        \"nosql\",\n",
    "        \"mysql\",\n",
    "        \"postgresql\",\n",
    "        \"sqlite\",\n",
    "        \"graphql\",\n",
    "        \"elasticsearch\",\n",
    "        \"redis\",\n",
    "        \"data center\",\n",
    "        \"mariadb\",\n",
    "        \"oracle\",\n",
    "        \"sql\",\n",
    "    ],\n",
    "    \"ai_modeling\": [\n",
    "        \"regression testing\",\n",
    "        \"predictive modeling\",\n",
    "        \"image processing\",\n",
    "        \"data science\",\n",
    "        \"NLP\",\n",
    "        \"data modeling\",\n",
    "        \"computer vision\",\n",
    "        \"big data\",\n",
    "        \"deep learning\",\n",
    "        \"data mining\",\n",
    "    ],\n",
    "    \"ai_frameworks\": [\n",
    "        \"pytorch\",\n",
    "        \"keras\",\n",
    "        \"tensorflow\",\n",
    "        \"scikit-learn\",\n",
    "    ],\n",
    "    \"network_skills\": [\n",
    "        \"routing protocols\",\n",
    "        \"cisco\",\n",
    "        \"wireless\",\n",
    "        \"vpn\",\n",
    "        \"switching\",\n",
    "        \"dhcp server\",\n",
    "        \"network security\",\n",
    "        \"lan-wan\"\n",
    "        \"hacking\",\n",
    "        \"cybersecurity\",\n",
    "        \"penetration test\",\n",
    "        \"network administration\",\n",
    "        \"network security\",\n",
    "    ],\n",
    "    \"message_brokers\": [\n",
    "        \"apache kafka\",\n",
    "        \"rabbitmq\",\n",
    "    ],\n",
    "    \"hardware_skills\": [\n",
    "        \"FPGA\",\n",
    "        \"PCB design\",\n",
    "        \"VLSI\",\n",
    "        \"IOT\",\n",
    "        \"circuit design\",\n",
    "        \"embedded\",\n",
    "        \"microcontroller\",\n",
    "        \"signal processing\",\n",
    "        \"raspberry pi\",\n",
    "        \"verilog\",\n",
    "        \"stm32\",\n",
    "        \"ARM\",\n",
    "        \"xilinx\",\n",
    "        \"arduino\",\n",
    "        \"simulink\",\n",
    "        \"matlab\",\n",
    "        \"VHDL\",\n",
    "        \"proteus\",\n",
    "    ],\n",
    "    \"os\": [\n",
    "        \"linux\",\n",
    "        \"vmware\",\n",
    "    ]\n",
    "}"
   ],
   "metadata": {
    "collapsed": false,
    "pycharm": {
     "name": "#%%\n"
    }
   }
  },
  {
   "cell_type": "markdown",
   "source": [
    "## Education Categories"
   ],
   "metadata": {
    "collapsed": false,
    "pycharm": {
     "name": "#%% md\n"
    }
   }
  },
  {
   "cell_type": "code",
   "execution_count": 84,
   "outputs": [],
   "source": [
    "EDUCATIONS = [\n",
    "    \"bachelor-computer engineering\",\n",
    "    \"master-computer engineering\",\n",
    "    \"phd-computer engineering\",\n",
    "    \"others\",\n",
    "]"
   ],
   "metadata": {
    "collapsed": false,
    "pycharm": {
     "name": "#%%\n"
    }
   }
  },
  {
   "cell_type": "markdown",
   "source": [
    "## Experience Categories"
   ],
   "metadata": {
    "collapsed": false,
    "pycharm": {
     "name": "#%% md\n"
    }
   }
  },
  {
   "cell_type": "code",
   "execution_count": 85,
   "outputs": [],
   "source": [
    "EXPERIENCES = [\n",
    "    \"mobile developer\",  #0\n",
    "    \"data scientist\",  #1\n",
    "    \"ui-ux designer\",  #2\n",
    "    \"network engineer\",  #3\n",
    "    \"data engineer\",  #4\n",
    "    \"software engineer\",  #5\n",
    "    \"full stack developer\",  #6\n",
    "    \"frontend developer\",  #7\n",
    "    \"hardware engineer\",  #8\n",
    "    \"devops engineer\",  #9\n",
    "    \"database administrator\",  #10\n",
    "    \"others\",  #11\n",
    "]"
   ],
   "metadata": {
    "collapsed": false,
    "pycharm": {
     "name": "#%%\n"
    }
   }
  },
  {
   "cell_type": "markdown",
   "source": [
    "## Create conditions"
   ],
   "metadata": {
    "collapsed": false,
    "pycharm": {
     "name": "#%% md\n"
    }
   }
  },
  {
   "cell_type": "code",
   "execution_count": 86,
   "outputs": [
    {
     "name": "stdout",
     "output_type": "stream",
     "text": [
      "HTML  --  HTML5  --  0\n",
      "java  --  Java  --  0\n",
      "javascript  --  JavaScript  --  0\n",
      "c++  --  C++  --  0\n",
      "c  --  C++  --  0\n",
      "5\n",
      "0\n",
      "javascript  --  JavaScript  --  2\n",
      "1\n",
      "c  --  C  --  3\n",
      "matlab  --  Matlab  --  3\n",
      "2\n",
      "0\n"
     ]
    },
    {
     "data": {
      "text/plain": "         full name  backend_frameworks  frontend_frameworks  \\\n0      Evelio Sosa                 NaN                  NaN   \n1  Jyothi Vutukuri                 NaN                  NaN   \n2    Swarnava Basu                 NaN                  NaN   \n3   Adhira Deogade                 NaN                  NaN   \n4         Vikesh .                 NaN                  NaN   \n\n   programming_languages  devops_technologies  version_controls  ui-ux  \\\n0               0.263158                  NaN               NaN    NaN   \n1               0.000000                  NaN               NaN    NaN   \n2               0.052632                  NaN               NaN    NaN   \n3               0.105263                  NaN               NaN    NaN   \n4               0.000000                  NaN               NaN    NaN   \n\n   system_design_skills  databases  ai_models  ...  network engineer  \\\n0                   NaN        NaN        NaN  ...                 0   \n1                   NaN        NaN        NaN  ...                 0   \n2                   NaN        NaN        NaN  ...                 0   \n3                   NaN        NaN        NaN  ...                 0   \n4                   NaN        NaN        NaN  ...                 0   \n\n   data engineer  software engineer  full stack developer  frontend developer  \\\n0              0                  0                     0                   0   \n1              0                  0                     0                   0   \n2              0                  3                     0                   0   \n3              0                  0                     0                   0   \n4              0                  1                     0                   0   \n\n  hardware engineer devops engineer database administrator other experiences  \\\n0                 0               0                      0                 0   \n1                 0               1                      0                 0   \n2                 0               0                      0                 2   \n3                 0               1                      0                 1   \n4                 0               0                      0                 2   \n\n  current experience  \n0                     \n1    devops engineer  \n2    devops engineer  \n3    devops engineer  \n4    devops engineer  \n\n[5 rows x 32 columns]",
      "text/html": "<div>\n<style scoped>\n    .dataframe tbody tr th:only-of-type {\n        vertical-align: middle;\n    }\n\n    .dataframe tbody tr th {\n        vertical-align: top;\n    }\n\n    .dataframe thead th {\n        text-align: right;\n    }\n</style>\n<table border=\"1\" class=\"dataframe\">\n  <thead>\n    <tr style=\"text-align: right;\">\n      <th></th>\n      <th>full name</th>\n      <th>backend_frameworks</th>\n      <th>frontend_frameworks</th>\n      <th>programming_languages</th>\n      <th>devops_technologies</th>\n      <th>version_controls</th>\n      <th>ui-ux</th>\n      <th>system_design_skills</th>\n      <th>databases</th>\n      <th>ai_models</th>\n      <th>...</th>\n      <th>network engineer</th>\n      <th>data engineer</th>\n      <th>software engineer</th>\n      <th>full stack developer</th>\n      <th>frontend developer</th>\n      <th>hardware engineer</th>\n      <th>devops engineer</th>\n      <th>database administrator</th>\n      <th>other experiences</th>\n      <th>current experience</th>\n    </tr>\n  </thead>\n  <tbody>\n    <tr>\n      <th>0</th>\n      <td>Evelio Sosa</td>\n      <td>NaN</td>\n      <td>NaN</td>\n      <td>0.263158</td>\n      <td>NaN</td>\n      <td>NaN</td>\n      <td>NaN</td>\n      <td>NaN</td>\n      <td>NaN</td>\n      <td>NaN</td>\n      <td>...</td>\n      <td>0</td>\n      <td>0</td>\n      <td>0</td>\n      <td>0</td>\n      <td>0</td>\n      <td>0</td>\n      <td>0</td>\n      <td>0</td>\n      <td>0</td>\n      <td></td>\n    </tr>\n    <tr>\n      <th>1</th>\n      <td>Jyothi Vutukuri</td>\n      <td>NaN</td>\n      <td>NaN</td>\n      <td>0.000000</td>\n      <td>NaN</td>\n      <td>NaN</td>\n      <td>NaN</td>\n      <td>NaN</td>\n      <td>NaN</td>\n      <td>NaN</td>\n      <td>...</td>\n      <td>0</td>\n      <td>0</td>\n      <td>0</td>\n      <td>0</td>\n      <td>0</td>\n      <td>0</td>\n      <td>1</td>\n      <td>0</td>\n      <td>0</td>\n      <td>devops engineer</td>\n    </tr>\n    <tr>\n      <th>2</th>\n      <td>Swarnava Basu</td>\n      <td>NaN</td>\n      <td>NaN</td>\n      <td>0.052632</td>\n      <td>NaN</td>\n      <td>NaN</td>\n      <td>NaN</td>\n      <td>NaN</td>\n      <td>NaN</td>\n      <td>NaN</td>\n      <td>...</td>\n      <td>0</td>\n      <td>0</td>\n      <td>3</td>\n      <td>0</td>\n      <td>0</td>\n      <td>0</td>\n      <td>0</td>\n      <td>0</td>\n      <td>2</td>\n      <td>devops engineer</td>\n    </tr>\n    <tr>\n      <th>3</th>\n      <td>Adhira Deogade</td>\n      <td>NaN</td>\n      <td>NaN</td>\n      <td>0.105263</td>\n      <td>NaN</td>\n      <td>NaN</td>\n      <td>NaN</td>\n      <td>NaN</td>\n      <td>NaN</td>\n      <td>NaN</td>\n      <td>...</td>\n      <td>0</td>\n      <td>0</td>\n      <td>0</td>\n      <td>0</td>\n      <td>0</td>\n      <td>0</td>\n      <td>1</td>\n      <td>0</td>\n      <td>1</td>\n      <td>devops engineer</td>\n    </tr>\n    <tr>\n      <th>4</th>\n      <td>Vikesh .</td>\n      <td>NaN</td>\n      <td>NaN</td>\n      <td>0.000000</td>\n      <td>NaN</td>\n      <td>NaN</td>\n      <td>NaN</td>\n      <td>NaN</td>\n      <td>NaN</td>\n      <td>NaN</td>\n      <td>...</td>\n      <td>0</td>\n      <td>0</td>\n      <td>1</td>\n      <td>0</td>\n      <td>0</td>\n      <td>0</td>\n      <td>0</td>\n      <td>0</td>\n      <td>2</td>\n      <td>devops engineer</td>\n    </tr>\n  </tbody>\n</table>\n<p>5 rows × 32 columns</p>\n</div>"
     },
     "execution_count": 86,
     "metadata": {},
     "output_type": "execute_result"
    }
   ],
   "source": [
    "for index, row in data.iterrows():\n",
    "    if index > 4:\n",
    "        break\n",
    "    # counter for skills\n",
    "    counter_skills_programming = 0\n",
    "    # counter for educations\n",
    "    counter_educations_bachelor = 0\n",
    "    counter_educations_master = 0\n",
    "    counter_educations_phd = 0\n",
    "    counter_educations_other_majors = 0\n",
    "    # counter for experiences\n",
    "    counter_mobile_developer = 0\n",
    "    counter_data_scientist = 0\n",
    "    counter_ui_ux_designer = 0\n",
    "    counter_network_engineer = 0\n",
    "    counter_data_engineer = 0\n",
    "    counter_software_engineer = 0\n",
    "    counter_fullstack_developer = 0\n",
    "    counter_frontend_developer = 0\n",
    "    counter_hardware_engineer = 0\n",
    "    counter_devops_engineer = 0\n",
    "    counter_database_administrator = 0\n",
    "    counter_other_experiences = 0\n",
    "    current_job = \"\"\n",
    "\n",
    "    # Full name\n",
    "    name = row[\"Full Name\"]\n",
    "\n",
    "    # Skills\n",
    "    for itemSkill in row[\"Skills\"]:\n",
    "        # programming_languages\n",
    "        for i in range(len(SKILL_BUCKETS[\"programming_languages\"])):\n",
    "            if ((SKILL_BUCKETS[\"programming_languages\"][i]).lower() in itemSkill.lower()) and abs(\n",
    "                    len(itemSkill.lower()) - len(SKILL_BUCKETS[\"programming_languages\"][i])) < 3:\n",
    "                counter_skills_programming += 1\n",
    "                print(SKILL_BUCKETS[\"programming_languages\"][i], \" -- \", itemSkill, \" -- \", index)\n",
    "\n",
    "    # Educations\n",
    "    for itemEducation in row[\"Educations\"]:\n",
    "        if itemEducation[\"major\"] == EDUCATIONS[0]:\n",
    "            counter_educations_bachelor = 1\n",
    "        if itemEducation[\"major\"] == EDUCATIONS[1]:\n",
    "            counter_educations_master = 1\n",
    "        if itemEducation[\"major\"] == EDUCATIONS[2]:\n",
    "            counter_educations_phd = 1\n",
    "        if itemEducation[\"major\"] == EDUCATIONS[3]:\n",
    "            counter_educations_other_majors = 1\n",
    "\n",
    "    # Experiences\n",
    "    \"\"\"\n",
    "    Depending on the length of the experience, we build the model.\n",
    "    If the person has only 1 job, that will go to the output of the model.\n",
    "    If the person has more than one jobs, the last one is counted as model output and the rest are the input.\n",
    "    \"\"\"\n",
    "    for i in range(len(row[\"Experiences\"])):\n",
    "        if len(row[\"Experiences\"]) == 1:\n",
    "            current_job = (row[\"Experiences\"][i])[\"name\"]\n",
    "        else:\n",
    "            current_job = (row[\"Experiences\"][0])[\"name\"]\n",
    "            if i != 0:\n",
    "                if (row[\"Experiences\"][i])[\"name\"] == EXPERIENCES[0]:\n",
    "                    counter_mobile_developer += 1\n",
    "                if (row[\"Experiences\"][i])[\"name\"] == EXPERIENCES[1]:\n",
    "                    counter_data_scientist += 1\n",
    "                if (row[\"Experiences\"][i])[\"name\"] == EXPERIENCES[2]:\n",
    "                    counter_ui_ux_designer += 1\n",
    "                if (row[\"Experiences\"][i])[\"name\"] == EXPERIENCES[3]:\n",
    "                    counter_network_engineer += 1\n",
    "                if (row[\"Experiences\"][i])[\"name\"] == EXPERIENCES[4]:\n",
    "                    counter_data_engineer += 1\n",
    "                if (row[\"Experiences\"][i])[\"name\"] == EXPERIENCES[5]:\n",
    "                    counter_software_engineer += 1\n",
    "                if (row[\"Experiences\"][i])[\"name\"] == EXPERIENCES[6]:\n",
    "                    counter_frontend_developer += 1\n",
    "                if (row[\"Experiences\"][i])[\"name\"] == EXPERIENCES[7]:\n",
    "                    counter_frontend_developer += 1\n",
    "                if (row[\"Experiences\"][i])[\"name\"] == EXPERIENCES[8]:\n",
    "                    counter_hardware_engineer += 1\n",
    "                if (row[\"Experiences\"][i])[\"name\"] == EXPERIENCES[9]:\n",
    "                    counter_devops_engineer += 1\n",
    "                if (row[\"Experiences\"][i])[\"name\"] == EXPERIENCES[10]:\n",
    "                    counter_database_administrator += 1\n",
    "                if (row[\"Experiences\"][i])[\"name\"] == EXPERIENCES[11]:\n",
    "                    counter_other_experiences += 1\n",
    "\n",
    "    # Appending to the dataframe\n",
    "    model_df = model_df.append({\n",
    "        \"full name\": name,\n",
    "        'programming_languages': counter_skills_programming / len(SKILL_BUCKETS[\"programming_languages\"]),\n",
    "        'bachelor-computer engineering': counter_educations_bachelor,\n",
    "        \"master-computer engineering\": counter_educations_master,\n",
    "        \"phd-computer engineering\": counter_educations_phd,\n",
    "        \"other-majors\": counter_educations_other_majors,\n",
    "        \"mobile developer\": counter_mobile_developer,\n",
    "        \"data scientist\": counter_data_scientist,\n",
    "        \"ui-ux designer\": counter_ui_ux_designer,\n",
    "        \"network engineer\": counter_network_engineer,\n",
    "        \"data engineer\": counter_data_engineer,\n",
    "        \"software engineer\": counter_software_engineer,\n",
    "        \"full stack developer\": counter_fullstack_developer,\n",
    "        \"frontend developer\": counter_frontend_developer,\n",
    "        \"hardware engineer\": counter_hardware_engineer,\n",
    "        \"devops engineer\": counter_devops_engineer,\n",
    "        \"database administrator\": counter_database_administrator,\n",
    "        \"other experiences\": counter_other_experiences,\n",
    "        # output\n",
    "        \"current experience\": current_job\n",
    "    }, ignore_index=True)\n",
    "    print(counter_skills_programming)\n",
    "model_df"
   ],
   "metadata": {
    "collapsed": false,
    "pycharm": {
     "name": "#%%\n"
    }
   }
  }
 ],
 "metadata": {
  "kernelspec": {
   "display_name": "Python 3",
   "language": "python",
   "name": "python3"
  },
  "language_info": {
   "codemirror_mode": {
    "name": "ipython",
    "version": 2
   },
   "file_extension": ".py",
   "mimetype": "text/x-python",
   "name": "python",
   "nbconvert_exporter": "python",
   "pygments_lexer": "ipython2",
   "version": "2.7.6"
  }
 },
 "nbformat": 4,
 "nbformat_minor": 0
}