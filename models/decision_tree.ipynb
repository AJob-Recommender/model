{
 "cells": [
  {
   "cell_type": "markdown",
   "source": [
    "## Importing the libraries"
   ],
   "metadata": {
    "collapsed": false,
    "pycharm": {
     "name": "#%% md\n"
    }
   }
  },
  {
   "cell_type": "code",
   "execution_count": 1,
   "outputs": [],
   "source": [
    "import numpy as np\n",
    "import pandas as pd\n",
    "from sklearn import tree\n",
    "from sklearn.model_selection import train_test_split\n",
    "from sklearn.preprocessing import LabelEncoder\n",
    "from sklearn.metrics import accuracy_score"
   ],
   "metadata": {
    "collapsed": false,
    "pycharm": {
     "name": "#%%\n"
    }
   }
  },
  {
   "cell_type": "markdown",
   "source": [
    "## Importing the dataset"
   ],
   "metadata": {
    "collapsed": false,
    "pycharm": {
     "name": "#%% md\n"
    }
   }
  },
  {
   "cell_type": "code",
   "execution_count": 2,
   "outputs": [],
   "source": [
    "df_x = pd.read_csv(\"../dataframe/03-removing others job/df_x.csv\")\n",
    "df_y = pd.read_csv(\"../dataframe/03-removing others job/df_y.csv\")"
   ],
   "metadata": {
    "collapsed": false,
    "pycharm": {
     "name": "#%%\n"
    }
   }
  },
  {
   "cell_type": "markdown",
   "source": [
    "## Fixing NAN values"
   ],
   "metadata": {
    "collapsed": false,
    "pycharm": {
     "name": "#%% md\n"
    }
   }
  },
  {
   "cell_type": "code",
   "execution_count": 3,
   "outputs": [],
   "source": [
    "df_y[\"current experience\"] = df_y[\"current experience\"].fillna(\"\")"
   ],
   "metadata": {
    "collapsed": false,
    "pycharm": {
     "name": "#%%\n"
    }
   }
  },
  {
   "cell_type": "code",
   "execution_count": 4,
   "outputs": [
    {
     "data": {
      "text/plain": "array(['devops engineer', 'data scientist', 'software engineer',\n       'full stack developer', 'hardware engineer', 'data engineer',\n       'mobile developer', 'database administrator', 'frontend developer',\n       'network engineer', 'ui-ux designer'], dtype=object)"
     },
     "execution_count": 4,
     "metadata": {},
     "output_type": "execute_result"
    }
   ],
   "source": [
    "indexes = df_y.loc[(df_y[\"current experience\"] == \"\") | (df_y[\"current experience\"] == \"others\")].index\n",
    "df_y.drop(df_y[(df_y[\"current experience\"] == \"\") | (df_y[\"current experience\"] == \"others\")].index, inplace=True)\n",
    "df_x.drop(indexes, inplace=True)\n",
    "df_y[\"current experience\"].unique()"
   ],
   "metadata": {
    "collapsed": false,
    "pycharm": {
     "name": "#%%\n"
    }
   }
  },
  {
   "cell_type": "code",
   "execution_count": 5,
   "outputs": [
    {
     "data": {
      "text/plain": "((433, 30), (433,))"
     },
     "execution_count": 5,
     "metadata": {},
     "output_type": "execute_result"
    }
   ],
   "source": [
    "le = LabelEncoder()\n",
    "train_x = df_x.iloc[:, 1:].values.tolist()\n",
    "train_y = df_y.values.ravel()\n",
    "train_y = le.fit_transform(train_y)\n",
    "\n",
    "np.shape(train_x), np.shape(train_y)"
   ],
   "metadata": {
    "collapsed": false,
    "pycharm": {
     "name": "#%%\n"
    }
   }
  },
  {
   "cell_type": "markdown",
   "source": [
    "## Train test split"
   ],
   "metadata": {
    "collapsed": false,
    "pycharm": {
     "name": "#%% md\n"
    }
   }
  },
  {
   "cell_type": "code",
   "execution_count": 14,
   "outputs": [
    {
     "data": {
      "text/plain": "array([ 4,  0,  9,  1,  9,  3,  5,  8,  7,  3,  8,  3,  3,  5,  3,  9,  7,\n        3, 10, 10,  8,  6,  8,  1,  1,  3,  1, 10,  1,  0,  3,  0,  7,  7,\n        5,  0,  5,  8,  7,  3,  3,  4,  8,  6,  7,  2,  6,  3, 10,  0,  6,\n        9,  2,  1, 10,  1,  4,  2,  3,  8,  5,  8,  0,  9,  3,  0,  8,  8,\n        2, 10,  9,  1,  3,  8,  9,  0,  3,  2,  9,  2,  0,  6,  9,  2,  8,\n        1,  9,  9,  2,  4,  4, 10,  9,  0,  5, 10,  5,  3,  5,  8,  1,  4,\n        2,  1,  3,  8,  8,  9,  9,  0,  0,  4,  2,  9,  9,  1,  4,  7,  1,\n        8,  5,  4,  0,  3,  8,  5, 10,  3,  9,  6,  9,  0,  3,  3,  1,  8,\n        4,  5, 10,  8,  9,  2,  1, 10,  9,  9,  6,  9,  9,  3,  4,  8,  4,\n        6,  4,  9,  6,  3,  9,  9,  3,  9,  9,  9,  7,  2,  2,  8,  9,  9,\n        3, 10,  1,  9,  7,  3,  1,  0,  9,  8,  9,  0,  5,  2,  8,  8,  3,\n       10,  2, 10,  3,  4,  0, 10,  1,  4,  9,  3,  7,  9,  9,  3, 10,  9,\n        9,  7,  1,  8,  9,  5,  7, 10,  6,  8,  9,  1,  1,  3,  9,  0,  0,\n        3,  5,  3,  3,  7,  3,  9,  9,  9,  1,  9,  9,  3,  9,  9,  8,  3,\n        3,  3,  8,  6,  2, 10,  0,  8,  1,  3,  6,  2,  6,  8,  3, 10,  9,\n        9,  9,  7,  9,  8,  8,  9,  3,  9,  9,  0,  0,  9,  8,  9,  9,  6,\n        6,  2,  1,  0,  9,  1,  9,  5,  9,  1,  9,  3,  2,  6,  7,  6,  3,\n        9,  6,  9,  7,  3,  8,  0,  8,  8,  4,  8,  3,  3,  9,  8,  5, 10,\n        6,  8,  9,  5,  8,  2,  9,  9,  8,  4,  2,  0,  9,  9,  3,  8,  9,\n        0,  8,  0,  3,  8,  9,  6,  2,  3,  7, 10,  4,  9,  9,  3,  1,  8,\n        1,  9,  8,  9,  9,  8])"
     },
     "execution_count": 14,
     "metadata": {},
     "output_type": "execute_result"
    }
   ],
   "source": [
    "x_train, x_test, y_train, y_test = train_test_split(train_x, train_y, shuffle=True, test_size=0.20, random_state=0)\n",
    "y_train"
   ],
   "metadata": {
    "collapsed": false,
    "pycharm": {
     "name": "#%%\n"
    }
   }
  },
  {
   "cell_type": "markdown",
   "source": [
    "## Building the model"
   ],
   "metadata": {
    "collapsed": false,
    "pycharm": {
     "name": "#%% md\n"
    }
   }
  },
  {
   "cell_type": "code",
   "execution_count": 15,
   "outputs": [
    {
     "data": {
      "text/plain": "0.9942196531791907"
     },
     "execution_count": 15,
     "metadata": {},
     "output_type": "execute_result"
    }
   ],
   "source": [
    "clf = tree.DecisionTreeClassifier()\n",
    "clf.fit(x_train, y_train)\n",
    "clf.score(x_train, y_train)"
   ],
   "metadata": {
    "collapsed": false,
    "pycharm": {
     "name": "#%%\n"
    }
   }
  },
  {
   "cell_type": "markdown",
   "source": [
    "## Testing the model"
   ],
   "metadata": {
    "collapsed": false,
    "pycharm": {
     "name": "#%% md\n"
    }
   }
  },
  {
   "cell_type": "code",
   "execution_count": 16,
   "outputs": [
    {
     "data": {
      "text/plain": "0.5057471264367817"
     },
     "execution_count": 16,
     "metadata": {},
     "output_type": "execute_result"
    }
   ],
   "source": [
    "prediction = clf.predict(x_test)\n",
    "accuracy_score(y_test, prediction)"
   ],
   "metadata": {
    "collapsed": false,
    "pycharm": {
     "name": "#%%\n"
    }
   }
  },
  {
   "cell_type": "code",
   "execution_count": null,
   "outputs": [],
   "source": [],
   "metadata": {
    "collapsed": false,
    "pycharm": {
     "name": "#%%\n"
    }
   }
  }
 ],
 "metadata": {
  "kernelspec": {
   "display_name": "Python 3",
   "language": "python",
   "name": "python3"
  },
  "language_info": {
   "codemirror_mode": {
    "name": "ipython",
    "version": 2
   },
   "file_extension": ".py",
   "mimetype": "text/x-python",
   "name": "python",
   "nbconvert_exporter": "python",
   "pygments_lexer": "ipython2",
   "version": "2.7.6"
  }
 },
 "nbformat": 4,
 "nbformat_minor": 0
}