{
 "cells": [
  {
   "cell_type": "markdown",
   "source": [
    "## Importing Libraries"
   ],
   "metadata": {
    "collapsed": false,
    "pycharm": {
     "name": "#%% md\n"
    }
   }
  },
  {
   "cell_type": "code",
   "execution_count": 1,
   "outputs": [],
   "source": [
    "import numpy as np\n",
    "import pandas as pd\n",
    "import matplotlib.pyplot as plt"
   ],
   "metadata": {
    "collapsed": false,
    "pycharm": {
     "name": "#%%\n"
    }
   }
  },
  {
   "cell_type": "markdown",
   "source": [
    "## Importing the dataset"
   ],
   "metadata": {
    "collapsed": false,
    "pycharm": {
     "name": "#%% md\n"
    }
   }
  },
  {
   "cell_type": "code",
   "execution_count": 2,
   "outputs": [
    {
     "data": {
      "text/plain": "                                         Profile URL        Full Name  \\\n0           https://www.linkedin.com/in/evelio-sosa/      Evelio Sosa   \n1  https://www.linkedin.com/in/jyothi-vutukuri-a9...  Jyothi Vutukuri   \n2         https://www.linkedin.com/in/swarnava-basu/    Swarnava Basu   \n3         https://www.linkedin.com/in/adhiradeogade/   Adhira Deogade   \n4           https://www.linkedin.com/in/vikeshyadav/         Vikesh .   \n\n                                         Experiences  \\\n0                                                 []   \n1  [{'name': 'devops engineer', 'place': 'IBM · F...   \n2  [{'name': 'devops engineer', 'place': 'Codelog...   \n3  [{'name': 'devops engineer', 'place': 'apple ·...   \n4  [{'name': 'devops engineer', 'place': 'Google ...   \n\n                                          Educations  \\\n0  [{'university': 'Texas A&amp;M University', 'm...   \n1  [{'university': 'Jawaharlal Nehru Technologica...   \n2  [{'university': 'Meghnad Saha Institute Of Tec...   \n3                                                 []   \n4  [{'university': 'Maharshi Dayanand University'...   \n\n                                              Skills  \n0  [HTML5, Cascading Style Sheets (CSS), Python (...  \n1  [Jenkins, Ansible, Git, AWS, Linux, Maven, She...  \n2  [Microsoft Azure, Amazon Web Services (AWS), G...  \n3  [Machine Learning, Python (Programming Languag...  \n4  [Amazon Web Services (AWS), DevOps, Linux Syst...  ",
      "text/html": "<div>\n<style scoped>\n    .dataframe tbody tr th:only-of-type {\n        vertical-align: middle;\n    }\n\n    .dataframe tbody tr th {\n        vertical-align: top;\n    }\n\n    .dataframe thead th {\n        text-align: right;\n    }\n</style>\n<table border=\"1\" class=\"dataframe\">\n  <thead>\n    <tr style=\"text-align: right;\">\n      <th></th>\n      <th>Profile URL</th>\n      <th>Full Name</th>\n      <th>Experiences</th>\n      <th>Educations</th>\n      <th>Skills</th>\n    </tr>\n  </thead>\n  <tbody>\n    <tr>\n      <th>0</th>\n      <td>https://www.linkedin.com/in/evelio-sosa/</td>\n      <td>Evelio Sosa</td>\n      <td>[]</td>\n      <td>[{'university': 'Texas A&amp;amp;M University', 'm...</td>\n      <td>[HTML5, Cascading Style Sheets (CSS), Python (...</td>\n    </tr>\n    <tr>\n      <th>1</th>\n      <td>https://www.linkedin.com/in/jyothi-vutukuri-a9...</td>\n      <td>Jyothi Vutukuri</td>\n      <td>[{'name': 'devops engineer', 'place': 'IBM · F...</td>\n      <td>[{'university': 'Jawaharlal Nehru Technologica...</td>\n      <td>[Jenkins, Ansible, Git, AWS, Linux, Maven, She...</td>\n    </tr>\n    <tr>\n      <th>2</th>\n      <td>https://www.linkedin.com/in/swarnava-basu/</td>\n      <td>Swarnava Basu</td>\n      <td>[{'name': 'devops engineer', 'place': 'Codelog...</td>\n      <td>[{'university': 'Meghnad Saha Institute Of Tec...</td>\n      <td>[Microsoft Azure, Amazon Web Services (AWS), G...</td>\n    </tr>\n    <tr>\n      <th>3</th>\n      <td>https://www.linkedin.com/in/adhiradeogade/</td>\n      <td>Adhira Deogade</td>\n      <td>[{'name': 'devops engineer', 'place': 'apple ·...</td>\n      <td>[]</td>\n      <td>[Machine Learning, Python (Programming Languag...</td>\n    </tr>\n    <tr>\n      <th>4</th>\n      <td>https://www.linkedin.com/in/vikeshyadav/</td>\n      <td>Vikesh .</td>\n      <td>[{'name': 'devops engineer', 'place': 'Google ...</td>\n      <td>[{'university': 'Maharshi Dayanand University'...</td>\n      <td>[Amazon Web Services (AWS), DevOps, Linux Syst...</td>\n    </tr>\n  </tbody>\n</table>\n</div>"
     },
     "execution_count": 2,
     "metadata": {},
     "output_type": "execute_result"
    }
   ],
   "source": [
    "data = pd.read_json(\"datasets/02-data/data.json\")\n",
    "data.head()"
   ],
   "metadata": {
    "collapsed": false,
    "pycharm": {
     "name": "#%%\n"
    }
   }
  },
  {
   "cell_type": "markdown",
   "source": [
    "## creating new dataframe for the model"
   ],
   "metadata": {
    "collapsed": false,
    "pycharm": {
     "name": "#%% md\n"
    }
   }
  },
  {
   "cell_type": "code",
   "execution_count": 3,
   "outputs": [
    {
     "data": {
      "text/plain": "Empty DataFrame\nColumns: [full name, programming_languages, backend_frameworks, devops_technologies, frontend_frameworks, system_design_skills, version_controls, ui-ux, data_related, databases, ai_models, ai_frameworks, network_skills, message_brokers, hardware_skills, os, bachelor-computer engineering, master-computer engineering, phd-computer engineering, other-majors, mobile developer, data scientist, ui-ux designer, network engineer, data engineer, software engineer, full stack developer, frontend developer, hardware engineer, devops engineer, database administrator]\nIndex: []\n\n[0 rows x 31 columns]",
      "text/html": "<div>\n<style scoped>\n    .dataframe tbody tr th:only-of-type {\n        vertical-align: middle;\n    }\n\n    .dataframe tbody tr th {\n        vertical-align: top;\n    }\n\n    .dataframe thead th {\n        text-align: right;\n    }\n</style>\n<table border=\"1\" class=\"dataframe\">\n  <thead>\n    <tr style=\"text-align: right;\">\n      <th></th>\n      <th>full name</th>\n      <th>programming_languages</th>\n      <th>backend_frameworks</th>\n      <th>devops_technologies</th>\n      <th>frontend_frameworks</th>\n      <th>system_design_skills</th>\n      <th>version_controls</th>\n      <th>ui-ux</th>\n      <th>data_related</th>\n      <th>databases</th>\n      <th>...</th>\n      <th>data scientist</th>\n      <th>ui-ux designer</th>\n      <th>network engineer</th>\n      <th>data engineer</th>\n      <th>software engineer</th>\n      <th>full stack developer</th>\n      <th>frontend developer</th>\n      <th>hardware engineer</th>\n      <th>devops engineer</th>\n      <th>database administrator</th>\n    </tr>\n  </thead>\n  <tbody>\n  </tbody>\n</table>\n<p>0 rows × 31 columns</p>\n</div>"
     },
     "execution_count": 3,
     "metadata": {},
     "output_type": "execute_result"
    }
   ],
   "source": [
    "model_df_x = pd.DataFrame(columns=[\n",
    "    \"full name\",\n",
    "    # Skills\n",
    "    \"programming_languages\",\n",
    "    \"backend_frameworks\",\n",
    "    \"devops_technologies\",\n",
    "    \"frontend_frameworks\",\n",
    "    \"system_design_skills\",\n",
    "    \"version_controls\",\n",
    "    \"ui-ux\",\n",
    "    \"data_related\",\n",
    "    \"databases\",\n",
    "    \"ai_models\",\n",
    "    \"ai_frameworks\",\n",
    "    \"network_skills\",\n",
    "    \"message_brokers\",\n",
    "    \"hardware_skills\",\n",
    "    \"os\",\n",
    "    # Educations\n",
    "    \"bachelor-computer engineering\",\n",
    "    \"master-computer engineering\",\n",
    "    \"phd-computer engineering\",\n",
    "    \"other-majors\",\n",
    "    # Experiences\n",
    "    \"mobile developer\",\n",
    "    \"data scientist\",\n",
    "    \"ui-ux designer\",\n",
    "    \"network engineer\",\n",
    "    \"data engineer\",\n",
    "    \"software engineer\",\n",
    "    \"full stack developer\",\n",
    "    \"frontend developer\",\n",
    "    \"hardware engineer\",\n",
    "    \"devops engineer\",\n",
    "    \"database administrator\",\n",
    "])\n",
    "model_df_x"
   ],
   "metadata": {
    "collapsed": false,
    "pycharm": {
     "name": "#%%\n"
    }
   }
  },
  {
   "cell_type": "code",
   "execution_count": 3,
   "outputs": [],
   "source": [],
   "metadata": {
    "collapsed": false,
    "pycharm": {
     "name": "#%%\n"
    }
   }
  },
  {
   "cell_type": "markdown",
   "source": [
    "## Dataframe for the output"
   ],
   "metadata": {
    "collapsed": false,
    "pycharm": {
     "name": "#%% md\n"
    }
   }
  },
  {
   "cell_type": "code",
   "execution_count": 4,
   "outputs": [
    {
     "data": {
      "text/plain": "Empty DataFrame\nColumns: [current experience]\nIndex: []",
      "text/html": "<div>\n<style scoped>\n    .dataframe tbody tr th:only-of-type {\n        vertical-align: middle;\n    }\n\n    .dataframe tbody tr th {\n        vertical-align: top;\n    }\n\n    .dataframe thead th {\n        text-align: right;\n    }\n</style>\n<table border=\"1\" class=\"dataframe\">\n  <thead>\n    <tr style=\"text-align: right;\">\n      <th></th>\n      <th>current experience</th>\n    </tr>\n  </thead>\n  <tbody>\n  </tbody>\n</table>\n</div>"
     },
     "execution_count": 4,
     "metadata": {},
     "output_type": "execute_result"
    }
   ],
   "source": [
    "model_df_y = pd.DataFrame(columns={\n",
    "    \"current experience\",\n",
    "})\n",
    "model_df_y"
   ],
   "metadata": {
    "collapsed": false,
    "pycharm": {
     "name": "#%%\n"
    }
   }
  },
  {
   "cell_type": "markdown",
   "source": [
    "## Skill Buckets"
   ],
   "metadata": {
    "collapsed": false,
    "pycharm": {
     "name": "#%% md\n"
    }
   }
  },
  {
   "cell_type": "code",
   "execution_count": 5,
   "outputs": [],
   "source": [
    "SKILL_BUCKETS = {\n",
    "    \"programming_languages\": [\n",
    "        {\"java\", \"Core Java\", \"Java Enterprise Edition\", \"JavaSE\"},\n",
    "        {\"kotlin\", \"elixir\"},\n",
    "        {\"xml\", \"JSP\"},\n",
    "        {\"swift\", \"Swift (Programming Language)\"},\n",
    "        {\"android\", \"android jetpack\", \"android data binding\", \"Android Development\", \"Android Studio\"},\n",
    "        {\"ios\", \"ios development\"},\n",
    "        {\"r\", \"R Programming\"},\n",
    "        {\"python\", \"Python (Programming Language)\"},\n",
    "        {\"php\"},\n",
    "        {\"javascript\", \"js\", \"JavaScript eXtension (JSX)\", \"Three.js\", \"typescript\"},\n",
    "        {\"HTML\", \"HTML5\", \"HTML 5\"},\n",
    "        {\"CSS\", \"Cascading Style Sheets (CSS)\", \"sass\", \"less\", \"Tailwind CSS\", \"scss\", \"CSS Flexbox\"},\n",
    "        {\"golang\", \"Go (Programming Language)\"},\n",
    "        {\"c++\"},\n",
    "        {\"c#\"},\n",
    "        {\"c\", \"C (Programming Language)\" },\n",
    "        {\"ruby\", \"ruby or rails\"},#13\n",
    "        {\"perl\", \"Perl Script\"},\n",
    "        {\"Shell Scripting\", \"Bash\"},\n",
    "        {\"Scala\", \"Scala (Programming Language)\"},\n",
    "    ],\n",
    "    \"backend_frameworks\": [\n",
    "        {\"Back-End Web Development\"},\n",
    "        {\"ASP.NET\", \"ASP.NET Core\", \"ASP.NET MVC\", \".NET\", \".NET Framework\", \".NET Core\", \"Asp.net identity\", \"asp.net core Web API\", \"ASP.NET WEB API\", \"LINQ\", \"Entity Framework\", \"WCF\", \"blazor\"},\n",
    "        {\"django\"},\n",
    "        {\"spring\", \"Spring Framework\", \"Spring MVC\", \"Spring Boot\"},\n",
    "        {\"laravel\"},\n",
    "        {\"Node.js\", \"Node\", \"Node js\"},\n",
    "        {\"Express.js\", \"Express\"},\n",
    "    ],\n",
    "    \"devops_technologies\": [\n",
    "        {\"kubernetes\", \"helm chart\", \"Helm Charts\", \"openshift\", \"prometheus\"},\n",
    "        {\"docker\", \"Docker Products\"},\n",
    "        {\"ansible\"},\n",
    "        {\"infrastructure\"},#3\n",
    "        {\"google cloud platform\", \"Google Cloud Platform (GCP)\"},\n",
    "        {\"azure\", \"Azure DevOps\", \"Microsoft Azure\", \"Microsoft Azure task management\"},\n",
    "        {\"containerization\", \"Virtualization\"},\n",
    "        {\"aws\", \"amazon web services certified solutions architect\", \"Amazon CloudFront\", \"AWS Lambda\",\n",
    "         \"Amazon Redshift\", \"Amazon Web Services (AWS)\", \"AWS CloudFormation\", \"Amazon ECS\"},\n",
    "        {\"jenkins\"},\n",
    "        {\"CI-CD\", \" Continuous Delivery\", \"Continuous Integration\", \"Continuous Improvement\"},\n",
    "        {\"cloud endure\", \"cloud migration\", \"cloud backup\", \"cloud computing\"},\n",
    "        {\"devops\"},\n",
    "    ],\n",
    "    \"frontend_frameworks\": [\n",
    "        {\"react\", \"React.js\", \"react hook\", \"react js\", \"React Native\", \"nextjs\"},\n",
    "        {\"vuejs\", \"vue.js\"},\n",
    "        {\"angular\", \"angularjs\", \"Angular Material\", \"Angular 6\"},\n",
    "        {\"redux\", \"Redux.js\", \"Redux Thunk\"},\n",
    "        {\"ajax\"},\n",
    "        {\"jquery\"},\n",
    "        {\"bootstrap\"},\n",
    "    ],\n",
    "    \"system_design_skills\": [\n",
    "        {\"mobile application\", \"mobile applications\"},\n",
    "        {\"oop\", \"Object-Oriented Programming (OOP)\", \"Object Oriented Design\"},\n",
    "        {\"design patterns\", \"software design patterns\", \"Software Design\"},\n",
    "        {\"Systems Engineering\", \"Distributed Systems\", \"software engineering\"},\n",
    "        {\"programming\"},\n",
    "        {\"algorithm\", \"algorithms\", \"Data Structures and algorithms\", \"data structures\", \"Graph Theory\"},\n",
    "        {\"web development\", \"grpc\"},\n",
    "        {\"web applications\", \"Web Application Firewall\", \"Web Services\", \"Web Application Security\", \"web application penetration testing\"},\n",
    "        {\"microservices\"},\n",
    "        {\"Software Testing\", \"Test Driven Development\", \"Test Automation\", \"unit testing\"},\n",
    "        {\"Unified Modeling Language (UML)\", \"uml\"},\n",
    "    ],\n",
    "    \"version_controls\": [\n",
    "        {\"git\", \"gitflow\", \"Gitlab\", \"Github\"},\n",
    "    ],\n",
    "    \"ui-ux\": [\n",
    "        {\"graphic design\", \"Computer Graphics\"},\n",
    "        {\"illustrator\"},\n",
    "        {\"figma\", \"adobe xd\", \"Google Material Design\"},\n",
    "        {\"photoshop\", \"adobe photoshop\"},\n",
    "        {\"ui-ux\", \"User Interface Design\", \"User Experience (UX)\", \"Ui Designer\", \"Ux design\",\n",
    "         \"User Interface Prototyping\", \"Material-UI\"},\n",
    "    ],\n",
    "    \"data_related\": [\n",
    "        {\"data integration\"},\n",
    "        {\"big data\", \"Big Data Analytics\", \"Data Engineering\"},\n",
    "        {\"data\"},\n",
    "        {\"spark\", \"Apache Spark\", \"PySpark\"},\n",
    "        {\"Information Retrieval\"},\n",
    "        {\"Data Visualization\"},\n",
    "        {\"Selenium\"},\n",
    "        {\"PySpark\"},\n",
    "        {\"mapreduce\"},\n",
    "        {\"Zeppelin\"},\n",
    "        {\"Hadoop\"},\n",
    "        {\"Apache Sqoop\", \"sqoop\"},\n",
    "        {\"Tableau\"},\n",
    "        {\"hdfs\"},\n",
    "        {\"Apache Oozie\", \"Oozie\"},\n",
    "        {\"Data Warehousing\"},\n",
    "        {\"Apache Ambari\"},\n",
    "        {\"Cloudera Impala\", \"Apache Impala\", \"Impala\"},\n",
    "        {\"Snowflake\"},\n",
    "    ],\n",
    "    \"databases\": [\n",
    "        {\"data migration\"},\n",
    "        {\"mongodb\"},\n",
    "        {\"database design\"},\n",
    "        {\"nosql\"},\n",
    "        {\"mysql\"},\n",
    "        {\"postgresql\"},\n",
    "        {\"sqlite\"},\n",
    "        {\"graphql\"},\n",
    "        {\"elasticsearch\", \"Elastic Stack (ELK)\"},\n",
    "        {\"redis\"},\n",
    "        {\"data center\"},\n",
    "        {\"mariadb\"},\n",
    "        {\"oracle\"},\n",
    "        {\"SQLite\"},\n",
    "        {\"sql\", \"Microsoft SQL Server\", \"SQL Server Management Studio\", \"PL/SQL\", \"T-SQL\", \"Transact-SQL (T-SQL)\", \"SSRS\"},\n",
    "    ],\n",
    "    \"ai_modeling\": [\n",
    "        {\"Artificial Intelligence (AI)\", \"AI\", \"Artificial Intelligence\"},\n",
    "        {\"regression testing\"},\n",
    "        {\"predictive modeling\"},\n",
    "        {\"Machine Learning\", \"Machine Learning Algorithms\"},\n",
    "        {\"image processing\"},\n",
    "        {\"data science\"},\n",
    "        {\"NLP\", \"Natural Language Processing (NLP)\"},\n",
    "        {\"data modeling\"},\n",
    "        {\"computer vision\"},\n",
    "        {\"big data\"},\n",
    "        {\"deep learning\"},\n",
    "        {\"data mining\"},\n",
    "        {\"Data Analysis\"},\n",
    "        {\"MLOps\"},\n",
    "        {\"Supervised Learning\", \"Unsupervised Learning\"},\n",
    "        {\"Recommender Systems\"},\n",
    "        {\"Data Preprocessing\"},\n",
    "    ],\n",
    "    \"ai_frameworks\": [\n",
    "        {\"pandas\", \"Pandas (Software)\"},\n",
    "        {\"pytorch\"},\n",
    "        {\"keras\"},\n",
    "        {\"tensorflow\"},\n",
    "        {\"scikit-learn\"},\n",
    "        {\"seaborn\"},\n",
    "    ],\n",
    "    \"network_skills\": [\n",
    "        {\"Dynamic Host Configuration Protocol (DHCP)\"},\n",
    "        {\"Domain Name System (DNS)\"},\n",
    "        {\"routing protocols\", \"Routing\"},\n",
    "        {\"Routers\"},\n",
    "        {\"cisco\"},\n",
    "        {\"wireless\"},\n",
    "        {\"vpn\", \"SSLVPN\"},\n",
    "        {\"switching\"},\n",
    "        {\"dhcp server\"},\n",
    "        {\"network security\"},\n",
    "        {\"lan-wan\"},\n",
    "        {\"hacking\"},\n",
    "        {\"cybersecurity\"},\n",
    "        {\"penetration test\", \"Penetration Testing\"},\n",
    "        {\"network administration\", \"Server Administration\", \"Networking\", \"Computer Networking\"},\n",
    "        {\"network security\"},\n",
    "        {\"ip\"},\n",
    "        {\"TCP/IP\"},\n",
    "    ],\n",
    "    \"message_brokers\": [\n",
    "        {\"apache kafka\"},\n",
    "        {\"rabbitmq\"},\n",
    "    ],\n",
    "    \"hardware_skills\": [\n",
    "        {\"FPGA\", \"Field-Programmable Gate Arrays (FPGA)\"},\n",
    "        {\"PCB design\", \"Printed Circuit Board (PCB)\"},\n",
    "        {\"VLSI\", \"Very-Large-Scale Integration (VLSI)\"},\n",
    "        {\"IOT\"},\n",
    "        {\"circuit design\", \"Electronic Circuit Design\"},\n",
    "        {\"embedded\"},\n",
    "        {\"Computer Architecture\"},\n",
    "        {\"PSpice\"},\n",
    "        {\"microcontroller\"},\n",
    "        {\"Controller Area Network (CAN)\"},\n",
    "        {\"signal processing\"},\n",
    "        {\"raspberry pi\"},\n",
    "        {\"verilog\"},\n",
    "        {\"stm32\"},\n",
    "        {\"ARM\", \"ARM Assembly\"},\n",
    "        {\"xilinx\"},\n",
    "        {\"arduino\"},\n",
    "        {\"simulink\"},\n",
    "        {\"matlab\"},\n",
    "        {\"VHDL\"},\n",
    "        {\"proteus\"},\n",
    "    ],\n",
    "    \"os\": [\n",
    "        {\"linux\", \"Red Hat Linux\", \"Linux Kernel\", \"Arch Linux\", \"Kali Linux\", \"CentOS\"},\n",
    "        {\"vmware\", \"VMware Infrastructure\"},\n",
    "        {\"Windows Server\", \"Windows\"},\n",
    "    ]\n",
    "}"
   ],
   "metadata": {
    "collapsed": false,
    "pycharm": {
     "name": "#%%\n"
    }
   }
  },
  {
   "cell_type": "code",
   "execution_count": 6,
   "outputs": [],
   "source": [
    "counted_skills = {\n",
    "    \"programming_languages\": [False for i in range(len(SKILL_BUCKETS[\"programming_languages\"]))],\n",
    "    \"backend_frameworks\": [False for i in range(len(SKILL_BUCKETS[\"backend_frameworks\"]))],\n",
    "    \"devops_technologies\": [False for i in range(len(SKILL_BUCKETS[\"devops_technologies\"]))],\n",
    "    \"frontend_frameworks\": [False for i in range(len(SKILL_BUCKETS[\"frontend_frameworks\"]))],\n",
    "    \"system_design_skills\": [False for i in range(len(SKILL_BUCKETS[\"system_design_skills\"]))],\n",
    "    \"version_controls\": [False for i in range(len(SKILL_BUCKETS[\"version_controls\"]))],\n",
    "    \"ui-ux\": [False for i in range(len(SKILL_BUCKETS[\"ui-ux\"]))],\n",
    "    \"data_related\": [False for i in range(len(SKILL_BUCKETS[\"data_related\"]))],\n",
    "    \"databases\": [False for i in range(len(SKILL_BUCKETS[\"databases\"]))],\n",
    "    \"ai_modeling\": [False for i in range(len(SKILL_BUCKETS[\"ai_modeling\"]))],\n",
    "    \"ai_frameworks\": [False for i in range(len(SKILL_BUCKETS[\"ai_frameworks\"]))],\n",
    "    \"network_skills\": [False for i in range(len(SKILL_BUCKETS[\"network_skills\"]))],\n",
    "    \"message_brokers\": [False for i in range(len(SKILL_BUCKETS[\"message_brokers\"]))],\n",
    "    \"hardware_skills\": [False for i in range(len(SKILL_BUCKETS[\"hardware_skills\"]))],\n",
    "    \"os\": [False for i in range(len(SKILL_BUCKETS[\"os\"]))],\n",
    "}"
   ],
   "metadata": {
    "collapsed": false,
    "pycharm": {
     "name": "#%%\n"
    }
   }
  },
  {
   "cell_type": "markdown",
   "source": [
    "## Convert skill to lowercase"
   ],
   "metadata": {
    "collapsed": false,
    "pycharm": {
     "name": "#%% md\n"
    }
   }
  },
  {
   "cell_type": "code",
   "execution_count": 7,
   "outputs": [
    {
     "data": {
      "text/plain": "{'programming_languages': [{'core java',\n   'java',\n   'java enterprise edition',\n   'javase'},\n  {'elixir', 'kotlin'},\n  {'jsp', 'xml'},\n  {'swift', 'swift (programming language)'},\n  {'android',\n   'android data binding',\n   'android development',\n   'android jetpack',\n   'android studio'},\n  {'ios', 'ios development'},\n  {'r', 'r programming'},\n  {'python', 'python (programming language)'},\n  {'php'},\n  {'javascript', 'javascript extension (jsx)', 'js', 'three.js', 'typescript'},\n  {'html', 'html 5', 'html5'},\n  {'cascading style sheets (css)',\n   'css',\n   'css flexbox',\n   'less',\n   'sass',\n   'scss',\n   'tailwind css'},\n  {'go (programming language)', 'golang'},\n  {'c++'},\n  {'c#'},\n  {'c', 'c (programming language)'},\n  {'ruby', 'ruby or rails'},\n  {'perl', 'perl script'},\n  {'bash', 'shell scripting'},\n  {'scala', 'scala (programming language)'}],\n 'backend_frameworks': [{'back-end web development'},\n  {'.net',\n   '.net core',\n   '.net framework',\n   'asp.net',\n   'asp.net core',\n   'asp.net core web api',\n   'asp.net identity',\n   'asp.net mvc',\n   'asp.net web api',\n   'blazor',\n   'entity framework',\n   'linq',\n   'wcf'},\n  {'django'},\n  {'spring', 'spring boot', 'spring framework', 'spring mvc'},\n  {'laravel'},\n  {'node', 'node js', 'node.js'},\n  {'express', 'express.js'}],\n 'devops_technologies': [{'helm chart',\n   'helm charts',\n   'kubernetes',\n   'openshift',\n   'prometheus'},\n  {'docker', 'docker products'},\n  {'ansible'},\n  {'infrastructure'},\n  {'google cloud platform', 'google cloud platform (gcp)'},\n  {'azure',\n   'azure devops',\n   'microsoft azure',\n   'microsoft azure task management'},\n  {'containerization', 'virtualization'},\n  {'amazon cloudfront',\n   'amazon ecs',\n   'amazon redshift',\n   'amazon web services (aws)',\n   'amazon web services certified solutions architect',\n   'aws',\n   'aws cloudformation',\n   'aws lambda'},\n  {'jenkins'},\n  {' continuous delivery',\n   'ci-cd',\n   'continuous improvement',\n   'continuous integration'},\n  {'cloud backup', 'cloud computing', 'cloud endure', 'cloud migration'},\n  {'devops'}],\n 'frontend_frameworks': [{'nextjs',\n   'react',\n   'react hook',\n   'react js',\n   'react native',\n   'react.js'},\n  {'vue.js', 'vuejs'},\n  {'angular', 'angular 6', 'angular material', 'angularjs'},\n  {'redux', 'redux thunk', 'redux.js'},\n  {'ajax'},\n  {'jquery'},\n  {'bootstrap'}],\n 'system_design_skills': [{'mobile application', 'mobile applications'},\n  {'object oriented design', 'object-oriented programming (oop)', 'oop'},\n  {'design patterns', 'software design', 'software design patterns'},\n  {'distributed systems', 'software engineering', 'systems engineering'},\n  {'programming'},\n  {'algorithm',\n   'algorithms',\n   'data structures',\n   'data structures and algorithms',\n   'graph theory'},\n  {'grpc', 'web development'},\n  {'web application firewall',\n   'web application penetration testing',\n   'web application security',\n   'web applications',\n   'web services'},\n  {'microservices'},\n  {'software testing',\n   'test automation',\n   'test driven development',\n   'unit testing'},\n  {'uml', 'unified modeling language (uml)'}],\n 'version_controls': [{'git', 'gitflow', 'github', 'gitlab'}],\n 'ui-ux': [{'computer graphics', 'graphic design'},\n  {'illustrator'},\n  {'adobe xd', 'figma', 'google material design'},\n  {'adobe photoshop', 'photoshop'},\n  {'material-ui',\n   'ui designer',\n   'ui-ux',\n   'user experience (ux)',\n   'user interface design',\n   'user interface prototyping',\n   'ux design'}],\n 'data_related': [{'data integration'},\n  {'big data', 'big data analytics', 'data engineering'},\n  {'data'},\n  {'apache spark', 'pyspark', 'spark'},\n  {'information retrieval'},\n  {'data visualization'},\n  {'selenium'},\n  {'pyspark'},\n  {'mapreduce'},\n  {'zeppelin'},\n  {'hadoop'},\n  {'apache sqoop', 'sqoop'},\n  {'tableau'},\n  {'hdfs'},\n  {'apache oozie', 'oozie'},\n  {'data warehousing'},\n  {'apache ambari'},\n  {'apache impala', 'cloudera impala', 'impala'},\n  {'snowflake'}],\n 'databases': [{'data migration'},\n  {'mongodb'},\n  {'database design'},\n  {'nosql'},\n  {'mysql'},\n  {'postgresql'},\n  {'sqlite'},\n  {'graphql'},\n  {'elastic stack (elk)', 'elasticsearch'},\n  {'redis'},\n  {'data center'},\n  {'mariadb'},\n  {'oracle'},\n  {'sqlite'},\n  {'microsoft sql server',\n   'pl/sql',\n   'sql',\n   'sql server management studio',\n   'ssrs',\n   't-sql',\n   'transact-sql (t-sql)'}],\n 'ai_modeling': [{'ai',\n   'artificial intelligence',\n   'artificial intelligence (ai)'},\n  {'regression testing'},\n  {'predictive modeling'},\n  {'machine learning', 'machine learning algorithms'},\n  {'image processing'},\n  {'data science'},\n  {'natural language processing (nlp)', 'nlp'},\n  {'data modeling'},\n  {'computer vision'},\n  {'big data'},\n  {'deep learning'},\n  {'data mining'},\n  {'data analysis'},\n  {'mlops'},\n  {'supervised learning', 'unsupervised learning'},\n  {'recommender systems'},\n  {'data preprocessing'}],\n 'ai_frameworks': [{'pandas', 'pandas (software)'},\n  {'pytorch'},\n  {'keras'},\n  {'tensorflow'},\n  {'scikit-learn'},\n  {'seaborn'}],\n 'network_skills': [{'dynamic host configuration protocol (dhcp)'},\n  {'domain name system (dns)'},\n  {'routing', 'routing protocols'},\n  {'routers'},\n  {'cisco'},\n  {'wireless'},\n  {'sslvpn', 'vpn'},\n  {'switching'},\n  {'dhcp server'},\n  {'network security'},\n  {'lan-wan'},\n  {'hacking'},\n  {'cybersecurity'},\n  {'penetration test', 'penetration testing'},\n  {'computer networking',\n   'network administration',\n   'networking',\n   'server administration'},\n  {'network security'},\n  {'ip'},\n  {'tcp/ip'}],\n 'message_brokers': [{'apache kafka'}, {'rabbitmq'}],\n 'hardware_skills': [{'field-programmable gate arrays (fpga)', 'fpga'},\n  {'pcb design', 'printed circuit board (pcb)'},\n  {'very-large-scale integration (vlsi)', 'vlsi'},\n  {'iot'},\n  {'circuit design', 'electronic circuit design'},\n  {'embedded'},\n  {'computer architecture'},\n  {'pspice'},\n  {'microcontroller'},\n  {'controller area network (can)'},\n  {'signal processing'},\n  {'raspberry pi'},\n  {'verilog'},\n  {'stm32'},\n  {'arm', 'arm assembly'},\n  {'xilinx'},\n  {'arduino'},\n  {'simulink'},\n  {'matlab'},\n  {'vhdl'},\n  {'proteus'}],\n 'os': [{'arch linux',\n   'centos',\n   'kali linux',\n   'linux',\n   'linux kernel',\n   'red hat linux'},\n  {'vmware', 'vmware infrastructure'},\n  {'windows', 'windows server'}]}"
     },
     "execution_count": 7,
     "metadata": {},
     "output_type": "execute_result"
    }
   ],
   "source": [
    "SKILL_PROGRAMMING_LANGUAGE = []\n",
    "SKILL_BACKEND_FRAMEWORKS = []\n",
    "SKILL_DEVOPS_TECHNOLOGIES = []\n",
    "SKILL_FRONTEND_FRAMEWORKS = []\n",
    "SKILL_SYSTEM_DESIGN = []\n",
    "SKILL_VERSION_CONTROL = []\n",
    "SKILL_UI_UX = []\n",
    "SKILL_DATA_RELATED = []\n",
    "SKILL_DATABASES = []\n",
    "SKILL_AI_MODELING = []\n",
    "SKILL_AI_FRAMEWORKS = []\n",
    "SKILL_NETWORK = []\n",
    "SKILL_MESSAGE_BROKERS = []\n",
    "SKILL_HARDWARE= []\n",
    "SKILL_OS = []\n",
    "\n",
    "for i in range(len(SKILL_BUCKETS[\"programming_languages\"])):\n",
    "    skill_set = set()\n",
    "    for j in SKILL_BUCKETS[\"programming_languages\"][i]:\n",
    "        skill_set.add(j.lower())\n",
    "    SKILL_PROGRAMMING_LANGUAGE.append(skill_set)\n",
    "\n",
    "for i in range(len(SKILL_BUCKETS[\"backend_frameworks\"])):\n",
    "    skill_set = set()\n",
    "    for j in SKILL_BUCKETS[\"backend_frameworks\"][i]:\n",
    "        skill_set.add(j.lower())\n",
    "    SKILL_BACKEND_FRAMEWORKS.append(skill_set)\n",
    "\n",
    "for i in range(len(SKILL_BUCKETS[\"devops_technologies\"])):\n",
    "    skill_set = set()\n",
    "    for j in SKILL_BUCKETS[\"devops_technologies\"][i]:\n",
    "        skill_set.add(j.lower())\n",
    "    SKILL_DEVOPS_TECHNOLOGIES.append(skill_set)\n",
    "\n",
    "for i in range(len(SKILL_BUCKETS[\"frontend_frameworks\"])):\n",
    "    skill_set = set()\n",
    "    for j in SKILL_BUCKETS[\"frontend_frameworks\"][i]:\n",
    "        skill_set.add(j.lower())\n",
    "    SKILL_FRONTEND_FRAMEWORKS.append(skill_set)\n",
    "\n",
    "for i in range(len(SKILL_BUCKETS[\"system_design_skills\"])):\n",
    "    skill_set = set()\n",
    "    for j in SKILL_BUCKETS[\"system_design_skills\"][i]:\n",
    "        skill_set.add(j.lower())\n",
    "    SKILL_SYSTEM_DESIGN.append(skill_set)\n",
    "\n",
    "for i in range(len(SKILL_BUCKETS[\"version_controls\"])):\n",
    "    skill_set = set()\n",
    "    for j in SKILL_BUCKETS[\"version_controls\"][i]:\n",
    "        skill_set.add(j.lower())\n",
    "    SKILL_VERSION_CONTROL.append(skill_set)\n",
    "\n",
    "for i in range(len(SKILL_BUCKETS[\"ui-ux\"])):\n",
    "    skill_set = set()\n",
    "    for j in SKILL_BUCKETS[\"ui-ux\"][i]:\n",
    "        skill_set.add(j.lower())\n",
    "    SKILL_UI_UX.append(skill_set)\n",
    "\n",
    "for i in range(len(SKILL_BUCKETS[\"data_related\"])):\n",
    "    skill_set = set()\n",
    "    for j in SKILL_BUCKETS[\"data_related\"][i]:\n",
    "        skill_set.add(j.lower())\n",
    "    SKILL_DATA_RELATED.append(skill_set)\n",
    "\n",
    "for i in range(len(SKILL_BUCKETS[\"databases\"])):\n",
    "    skill_set = set()\n",
    "    for j in SKILL_BUCKETS[\"databases\"][i]:\n",
    "        skill_set.add(j.lower())\n",
    "    SKILL_DATABASES.append(skill_set)\n",
    "\n",
    "for i in range(len(SKILL_BUCKETS[\"ai_modeling\"])):\n",
    "    skill_set = set()\n",
    "    for j in SKILL_BUCKETS[\"ai_modeling\"][i]:\n",
    "        skill_set.add(j.lower())\n",
    "    SKILL_AI_MODELING.append(skill_set)\n",
    "\n",
    "for i in range(len(SKILL_BUCKETS[\"ai_frameworks\"])):\n",
    "    skill_set = set()\n",
    "    for j in SKILL_BUCKETS[\"ai_frameworks\"][i]:\n",
    "        skill_set.add(j.lower())\n",
    "    SKILL_AI_FRAMEWORKS.append(skill_set)\n",
    "\n",
    "for i in range(len(SKILL_BUCKETS[\"network_skills\"])):\n",
    "    skill_set = set()\n",
    "    for j in SKILL_BUCKETS[\"network_skills\"][i]:\n",
    "        skill_set.add(j.lower())\n",
    "    SKILL_NETWORK.append(skill_set)\n",
    "\n",
    "for i in range(len(SKILL_BUCKETS[\"message_brokers\"])):\n",
    "    skill_set = set()\n",
    "    for j in SKILL_BUCKETS[\"message_brokers\"][i]:\n",
    "        skill_set.add(j.lower())\n",
    "    SKILL_MESSAGE_BROKERS.append(skill_set)\n",
    "\n",
    "for i in range(len(SKILL_BUCKETS[\"hardware_skills\"])):\n",
    "    skill_set = set()\n",
    "    for j in SKILL_BUCKETS[\"hardware_skills\"][i]:\n",
    "        skill_set.add(j.lower())\n",
    "    SKILL_HARDWARE.append(skill_set)\n",
    "\n",
    "for i in range(len(SKILL_BUCKETS[\"os\"])):\n",
    "    skill_set = set()\n",
    "    for j in SKILL_BUCKETS[\"os\"][i]:\n",
    "        skill_set.add(j.lower())\n",
    "    SKILL_OS.append(skill_set)\n",
    "\n",
    "SKILL_BUCKETS_LOWERCASE = {\n",
    "    \"programming_languages\": SKILL_PROGRAMMING_LANGUAGE,\n",
    "    \"backend_frameworks\": SKILL_BACKEND_FRAMEWORKS,\n",
    "    \"devops_technologies\": SKILL_DEVOPS_TECHNOLOGIES,\n",
    "    \"frontend_frameworks\": SKILL_FRONTEND_FRAMEWORKS,\n",
    "    \"system_design_skills\": SKILL_SYSTEM_DESIGN,\n",
    "    \"version_controls\": SKILL_VERSION_CONTROL,\n",
    "    \"ui-ux\": SKILL_UI_UX,\n",
    "    \"data_related\": SKILL_DATA_RELATED,\n",
    "    \"databases\": SKILL_DATABASES,\n",
    "    \"ai_modeling\": SKILL_AI_MODELING,\n",
    "    \"ai_frameworks\": SKILL_AI_FRAMEWORKS,\n",
    "    \"network_skills\": SKILL_NETWORK,\n",
    "    \"message_brokers\": SKILL_MESSAGE_BROKERS,\n",
    "    \"hardware_skills\": SKILL_HARDWARE,\n",
    "    \"os\": SKILL_OS,\n",
    "}\n",
    "\n",
    "SKILL_BUCKETS_LOWERCASE"
   ],
   "metadata": {
    "collapsed": false,
    "pycharm": {
     "name": "#%%\n"
    }
   }
  },
  {
   "cell_type": "markdown",
   "source": [
    "## Education Categories"
   ],
   "metadata": {
    "collapsed": false,
    "pycharm": {
     "name": "#%% md\n"
    }
   }
  },
  {
   "cell_type": "code",
   "execution_count": 8,
   "outputs": [],
   "source": [
    "EDUCATIONS = [\n",
    "    \"bachelor-computer engineering\",\n",
    "    \"master-computer engineering\",\n",
    "    \"phd-computer engineering\",\n",
    "    \"others\",\n",
    "]"
   ],
   "metadata": {
    "collapsed": false,
    "pycharm": {
     "name": "#%%\n"
    }
   }
  },
  {
   "cell_type": "markdown",
   "source": [
    "## Experience Categories"
   ],
   "metadata": {
    "collapsed": false,
    "pycharm": {
     "name": "#%% md\n"
    }
   }
  },
  {
   "cell_type": "code",
   "execution_count": 9,
   "outputs": [],
   "source": [
    "EXPERIENCES = [\n",
    "    \"mobile developer\",  #0\n",
    "    \"data scientist\",  #1\n",
    "    \"ui-ux designer\",  #2\n",
    "    \"network engineer\",  #3\n",
    "    \"data engineer\",  #4\n",
    "    \"software engineer\",  #5\n",
    "    \"full stack developer\",  #6\n",
    "    \"frontend developer\",  #7\n",
    "    \"hardware engineer\",  #8\n",
    "    \"devops engineer\",  #9\n",
    "    \"database administrator\",  #10\n",
    "]"
   ],
   "metadata": {
    "collapsed": false,
    "pycharm": {
     "name": "#%%\n"
    }
   }
  },
  {
   "cell_type": "markdown",
   "source": [
    "## Create conditions and append it to the dataframe"
   ],
   "metadata": {
    "collapsed": false,
    "pycharm": {
     "name": "#%% md\n"
    }
   }
  },
  {
   "cell_type": "code",
   "execution_count": 10,
   "outputs": [],
   "source": [
    "for index, row in data.iterrows():\n",
    "    # counter for skills\n",
    "    counter_skills_programming = 0\n",
    "    counter_skills_backend = 0\n",
    "    counter_skills_devops = 0\n",
    "    counter_skills_frontend = 0\n",
    "    counter_skills_system_design = 0\n",
    "    counter_skills_version_control = 0\n",
    "    counter_skills_ui_ux = 0\n",
    "    counter_skills_data_related = 0\n",
    "    counter_skills_databases = 0\n",
    "    counter_skills_ai_modeling = 0\n",
    "    counter_skills_ai_frameworks = 0\n",
    "    counter_skills_network = 0\n",
    "    counter_skills_message_brokers = 0\n",
    "    counter_skills_hardware = 0\n",
    "    counter_skills_os = 0\n",
    "    # counter for educations\n",
    "    counter_educations_bachelor = 0\n",
    "    counter_educations_master = 0\n",
    "    counter_educations_phd = 0\n",
    "    counter_educations_other_majors = 0\n",
    "    # counter for experiences\n",
    "    counter_mobile_developer = 0\n",
    "    counter_data_scientist = 0\n",
    "    counter_ui_ux_designer = 0\n",
    "    counter_network_engineer = 0\n",
    "    counter_data_engineer = 0\n",
    "    counter_software_engineer = 0\n",
    "    counter_fullstack_developer = 0\n",
    "    counter_frontend_developer = 0\n",
    "    counter_hardware_engineer = 0\n",
    "    counter_devops_engineer = 0\n",
    "    counter_database_administrator = 0\n",
    "    counter_other_experiences = 0\n",
    "    current_job = \"\"\n",
    "    counted_skills = {\n",
    "        \"programming_languages\": [False for i in range(len(SKILL_BUCKETS[\"programming_languages\"]))],\n",
    "        \"backend_frameworks\": [False for i in range(len(SKILL_BUCKETS[\"backend_frameworks\"]))],\n",
    "        \"devops_technologies\": [False for i in range(len(SKILL_BUCKETS[\"devops_technologies\"]))],\n",
    "        \"frontend_frameworks\": [False for i in range(len(SKILL_BUCKETS[\"frontend_frameworks\"]))],\n",
    "        \"system_design_skills\": [False for i in range(len(SKILL_BUCKETS[\"system_design_skills\"]))],\n",
    "        \"version_controls\": [False for i in range(len(SKILL_BUCKETS[\"version_controls\"]))],\n",
    "        \"ui-ux\": [False for i in range(len(SKILL_BUCKETS[\"ui-ux\"]))],\n",
    "        \"data_related\": [False for i in range(len(SKILL_BUCKETS[\"data_related\"]))],\n",
    "        \"databases\": [False for i in range(len(SKILL_BUCKETS[\"databases\"]))],\n",
    "        \"ai_modeling\": [False for i in range(len(SKILL_BUCKETS[\"ai_modeling\"]))],\n",
    "        \"ai_frameworks\": [False for i in range(len(SKILL_BUCKETS[\"ai_frameworks\"]))],\n",
    "        \"network_skills\": [False for i in range(len(SKILL_BUCKETS[\"network_skills\"]))],\n",
    "        \"message_brokers\": [False for i in range(len(SKILL_BUCKETS[\"message_brokers\"]))],\n",
    "        \"hardware_skills\": [False for i in range(len(SKILL_BUCKETS[\"hardware_skills\"]))],\n",
    "        \"os\": [False for i in range(len(SKILL_BUCKETS[\"os\"]))],\n",
    "    }\n",
    "\n",
    "    # Full name\n",
    "    name = row[\"Full Name\"]\n",
    "\n",
    "    # Skills\n",
    "    for itemSkill in row[\"Skills\"]:\n",
    "        for idx, value in enumerate(SKILL_BUCKETS_LOWERCASE[\"programming_languages\"]):\n",
    "            if itemSkill.lower() in SKILL_BUCKETS_LOWERCASE[\"programming_languages\"][idx]:\n",
    "                if not counted_skills[\"programming_languages\"][idx]:\n",
    "                    counter_skills_programming += 1\n",
    "                    counted_skills[\"programming_languages\"][idx] = True\n",
    "\n",
    "        for idx, value in enumerate(SKILL_BUCKETS_LOWERCASE[\"backend_frameworks\"]):\n",
    "            if itemSkill.lower() in SKILL_BUCKETS_LOWERCASE[\"backend_frameworks\"][idx]:\n",
    "                if not counted_skills[\"backend_frameworks\"][idx]:\n",
    "                    counter_skills_backend += 1\n",
    "                    counted_skills[\"backend_frameworks\"][idx] = True\n",
    "\n",
    "        for idx, value in enumerate(SKILL_BUCKETS_LOWERCASE[\"devops_technologies\"]):\n",
    "            if itemSkill.lower() in SKILL_BUCKETS_LOWERCASE[\"devops_technologies\"][idx]:\n",
    "                if not counted_skills[\"devops_technologies\"][idx]:\n",
    "                    counter_skills_devops += 1\n",
    "                    counted_skills[\"devops_technologies\"][idx] = True\n",
    "\n",
    "        for idx, value in enumerate(SKILL_BUCKETS_LOWERCASE[\"frontend_frameworks\"]):\n",
    "            if itemSkill.lower() in SKILL_BUCKETS_LOWERCASE[\"frontend_frameworks\"][idx]:\n",
    "                if not counted_skills[\"frontend_frameworks\"][idx]:\n",
    "                    counter_skills_frontend += 1\n",
    "                    counted_skills[\"frontend_frameworks\"][idx] = True\n",
    "\n",
    "        for idx, value in enumerate(SKILL_BUCKETS_LOWERCASE[\"system_design_skills\"]):\n",
    "            if itemSkill.lower() in SKILL_BUCKETS_LOWERCASE[\"system_design_skills\"][idx]:\n",
    "                if not counted_skills[\"system_design_skills\"][idx]:\n",
    "                    counter_skills_system_design += 1\n",
    "                    counted_skills[\"system_design_skills\"][idx] = True\n",
    "\n",
    "        for idx, value in enumerate(SKILL_BUCKETS_LOWERCASE[\"version_controls\"]):\n",
    "            if itemSkill.lower() in SKILL_BUCKETS_LOWERCASE[\"version_controls\"][idx]:\n",
    "                if not counted_skills[\"version_controls\"][idx]:\n",
    "                    counter_skills_version_control += 1\n",
    "                    counted_skills[\"version_controls\"][idx] = True\n",
    "\n",
    "        for idx, value in enumerate(SKILL_BUCKETS_LOWERCASE[\"ui-ux\"]):\n",
    "            if itemSkill.lower() in SKILL_BUCKETS_LOWERCASE[\"ui-ux\"][idx]:\n",
    "                if not counted_skills[\"ui-ux\"][idx]:\n",
    "                    counter_skills_ui_ux += 1\n",
    "                    counted_skills[\"ui-ux\"][idx] = True\n",
    "\n",
    "        for idx, value in enumerate(SKILL_BUCKETS_LOWERCASE[\"data_related\"]):\n",
    "            if itemSkill.lower() in SKILL_BUCKETS_LOWERCASE[\"data_related\"][idx]:\n",
    "                if not counted_skills[\"data_related\"][idx]:\n",
    "                    counter_skills_data_related += 1\n",
    "                    counted_skills[\"data_related\"][idx] = True\n",
    "\n",
    "        for idx, value in enumerate(SKILL_BUCKETS_LOWERCASE[\"databases\"]):\n",
    "            if itemSkill.lower() in SKILL_BUCKETS_LOWERCASE[\"databases\"][idx]:\n",
    "                if not counted_skills[\"databases\"][idx]:\n",
    "                    counter_skills_databases += 1\n",
    "                    counted_skills[\"databases\"][idx] = True\n",
    "\n",
    "        for idx, value in enumerate(SKILL_BUCKETS_LOWERCASE[\"ai_modeling\"]):\n",
    "            if itemSkill.lower() in SKILL_BUCKETS_LOWERCASE[\"ai_modeling\"][idx]:\n",
    "                if not counted_skills[\"ai_modeling\"][idx]:\n",
    "                    counter_skills_ai_modeling += 1\n",
    "                    counted_skills[\"ai_modeling\"][idx] = True\n",
    "\n",
    "        for idx, value in enumerate(SKILL_BUCKETS_LOWERCASE[\"ai_frameworks\"]):\n",
    "            if itemSkill.lower() in SKILL_BUCKETS_LOWERCASE[\"ai_frameworks\"][idx]:\n",
    "                if not counted_skills[\"ai_frameworks\"][idx]:\n",
    "                    counter_skills_ai_frameworks += 1\n",
    "                    counted_skills[\"ai_frameworks\"][idx] = True\n",
    "\n",
    "        for idx, value in enumerate(SKILL_BUCKETS_LOWERCASE[\"network_skills\"]):\n",
    "            if itemSkill.lower() in SKILL_BUCKETS_LOWERCASE[\"network_skills\"][idx]:\n",
    "                if not counted_skills[\"network_skills\"][idx]:\n",
    "                    counter_skills_network += 1\n",
    "                    counted_skills[\"network_skills\"][idx] = True\n",
    "\n",
    "        for idx, value in enumerate(SKILL_BUCKETS_LOWERCASE[\"message_brokers\"]):\n",
    "            if itemSkill.lower() in SKILL_BUCKETS_LOWERCASE[\"message_brokers\"][idx]:\n",
    "                if not counted_skills[\"message_brokers\"][idx]:\n",
    "                    counter_skills_message_brokers += 1\n",
    "                    counted_skills[\"message_brokers\"][idx] = True\n",
    "\n",
    "        for idx, value in enumerate(SKILL_BUCKETS_LOWERCASE[\"os\"]):\n",
    "            if itemSkill.lower() in SKILL_BUCKETS_LOWERCASE[\"os\"][idx]:\n",
    "                if not counted_skills[\"os\"][idx]:\n",
    "                    counter_skills_os += 1\n",
    "                    counted_skills[\"os\"][idx] = True\n",
    "\n",
    "    # Educations\n",
    "    for itemEducation in row[\"Educations\"]:\n",
    "        if itemEducation[\"major\"] == EDUCATIONS[0]:\n",
    "            counter_educations_bachelor = 1\n",
    "        if itemEducation[\"major\"] == EDUCATIONS[1]:\n",
    "            counter_educations_master = 1\n",
    "        if itemEducation[\"major\"] == EDUCATIONS[2]:\n",
    "            counter_educations_phd = 1\n",
    "        if itemEducation[\"major\"] == EDUCATIONS[3]:\n",
    "            counter_educations_other_majors = 1\n",
    "\n",
    "    # Experiences\n",
    "    \"\"\"\n",
    "    Depending on the length of the experience, we build the model.\n",
    "    If the person has only 1 job, that will go to the output of the model.\n",
    "    If the person has more than one jobs, the last one is counted as model output and the rest are the input.\n",
    "    \"\"\"\n",
    "    for i in range(len(row[\"Experiences\"])):\n",
    "        if len(row[\"Experiences\"]) == 1:\n",
    "            current_job = (row[\"Experiences\"][i])[\"name\"]\n",
    "        else:\n",
    "            current_job = (row[\"Experiences\"][0])[\"name\"]\n",
    "            if i != 0:\n",
    "                if (row[\"Experiences\"][i])[\"name\"] == EXPERIENCES[0]:\n",
    "                    counter_mobile_developer += 1\n",
    "                if (row[\"Experiences\"][i])[\"name\"] == EXPERIENCES[1]:\n",
    "                    counter_data_scientist += 1\n",
    "                if (row[\"Experiences\"][i])[\"name\"] == EXPERIENCES[2]:\n",
    "                    counter_ui_ux_designer += 1\n",
    "                if (row[\"Experiences\"][i])[\"name\"] == EXPERIENCES[3]:\n",
    "                    counter_network_engineer += 1\n",
    "                if (row[\"Experiences\"][i])[\"name\"] == EXPERIENCES[4]:\n",
    "                    counter_data_engineer += 1\n",
    "                if (row[\"Experiences\"][i])[\"name\"] == EXPERIENCES[5]:\n",
    "                    counter_software_engineer += 1\n",
    "                if (row[\"Experiences\"][i])[\"name\"] == EXPERIENCES[6]:\n",
    "                    counter_frontend_developer += 1\n",
    "                if (row[\"Experiences\"][i])[\"name\"] == EXPERIENCES[7]:\n",
    "                    counter_frontend_developer += 1\n",
    "                if (row[\"Experiences\"][i])[\"name\"] == EXPERIENCES[8]:\n",
    "                    counter_hardware_engineer += 1\n",
    "                if (row[\"Experiences\"][i])[\"name\"] == EXPERIENCES[9]:\n",
    "                    counter_devops_engineer += 1\n",
    "                if (row[\"Experiences\"][i])[\"name\"] == EXPERIENCES[10]:\n",
    "                    counter_database_administrator += 1\n",
    "\n",
    "    # Appending to the dataframe\n",
    "    model_df_x = model_df_x.append({\n",
    "        # full name\n",
    "        \"full name\": name,\n",
    "        # skills\n",
    "        'programming_languages': counter_skills_programming / len(SKILL_BUCKETS[\"programming_languages\"]),\n",
    "        \"backend_frameworks\": counter_skills_backend / len(SKILL_BUCKETS[\"backend_frameworks\"]),\n",
    "        \"devops_technologies\": counter_skills_devops / len(SKILL_BUCKETS[\"devops_technologies\"]),\n",
    "        \"frontend_frameworks\": counter_skills_frontend / len(SKILL_BUCKETS[\"frontend_frameworks\"]),\n",
    "        \"system_design_skills\": counter_skills_system_design / len(SKILL_BUCKETS[\"system_design_skills\"]),\n",
    "        \"version_controls\": counter_skills_version_control / len(SKILL_BUCKETS[\"version_controls\"]),\n",
    "        \"ui-ux\": counter_skills_ui_ux / len(SKILL_BUCKETS[\"ui-ux\"]),\n",
    "        \"data_related\": counter_skills_data_related / len(SKILL_BUCKETS[\"data_related\"]),\n",
    "        \"databases\": counter_skills_databases / len(SKILL_BUCKETS[\"databases\"]),\n",
    "        \"ai_models\": counter_skills_ai_modeling / len(SKILL_BUCKETS[\"ai_modeling\"]),\n",
    "        \"ai_frameworks\": counter_skills_ai_frameworks / len(SKILL_BUCKETS[\"ai_frameworks\"]),\n",
    "        \"network_skills\": counter_skills_network / len(SKILL_BUCKETS[\"network_skills\"]),\n",
    "        \"hardware_skills\": counter_skills_hardware / len(SKILL_BUCKETS[\"hardware_skills\"]),\n",
    "        \"message_brokers\": counter_skills_message_brokers / len(SKILL_BUCKETS[\"message_brokers\"]),\n",
    "        \"os\": counter_skills_os / len(SKILL_BUCKETS[\"os\"]),\n",
    "        # education\n",
    "        'bachelor-computer engineering': counter_educations_bachelor,\n",
    "        \"master-computer engineering\": counter_educations_master,\n",
    "        \"phd-computer engineering\": counter_educations_phd,\n",
    "        \"other-majors\": counter_educations_other_majors,\n",
    "        # experience\n",
    "        \"mobile developer\": counter_mobile_developer,\n",
    "        \"data scientist\": counter_data_scientist,\n",
    "        \"ui-ux designer\": counter_ui_ux_designer,\n",
    "        \"network engineer\": counter_network_engineer,\n",
    "        \"data engineer\": counter_data_engineer,\n",
    "        \"software engineer\": counter_software_engineer,\n",
    "        \"full stack developer\": counter_fullstack_developer,\n",
    "        \"frontend developer\": counter_frontend_developer,\n",
    "        \"hardware engineer\": counter_hardware_engineer,\n",
    "        \"devops engineer\": counter_devops_engineer,\n",
    "        \"database administrator\": counter_database_administrator,\n",
    "    }, ignore_index=True)\n",
    "\n",
    "    model_df_y = model_df_y.append({\n",
    "        \"current experience\": current_job,\n",
    "    }, ignore_index=True)"
   ],
   "metadata": {
    "collapsed": false,
    "pycharm": {
     "name": "#%%\n"
    }
   }
  },
  {
   "cell_type": "markdown",
   "source": [
    "## Exporting dataframe to file"
   ],
   "metadata": {
    "collapsed": false,
    "pycharm": {
     "name": "#%% md\n"
    }
   }
  },
  {
   "cell_type": "code",
   "execution_count": 11,
   "outputs": [],
   "source": [
    "model_df_x.to_csv('dataframe/05-working with skills/df_x.csv', index=False)\n",
    "model_df_y.to_csv('dataframe/05-working with skills/df_y.csv', index=False)"
   ],
   "metadata": {
    "collapsed": false,
    "pycharm": {
     "name": "#%%\n"
    }
   }
  },
  {
   "cell_type": "markdown",
   "source": [
    "## counting jobs"
   ],
   "metadata": {
    "collapsed": false,
    "pycharm": {
     "name": "#%% md\n"
    }
   }
  },
  {
   "cell_type": "code",
   "execution_count": 29,
   "outputs": [
    {
     "data": {
      "text/plain": "{'mobile developer': 19,\n 'data scientist': 37,\n 'ui-ux designer': 24,\n 'network engineer': 65,\n 'data engineer': 36,\n 'software engineer': 94,\n 'full stack developer': 20,\n 'frontend developer': 20,\n 'hardware engineer': 25,\n 'devops engineer': 65,\n 'database administrator': 28}"
     },
     "execution_count": 29,
     "metadata": {},
     "output_type": "execute_result"
    }
   ],
   "source": [
    "job_counts = [0 for i in range(len(EXPERIENCES))]\n",
    "for idx, val in enumerate(model_df_y.values):\n",
    "    if val == EXPERIENCES[0]:\n",
    "        job_counts[0] += 1\n",
    "    elif val == EXPERIENCES[1]:\n",
    "        job_counts[1] += 1\n",
    "    elif val == EXPERIENCES[2]:\n",
    "        job_counts[2] += 1\n",
    "    elif val == EXPERIENCES[3]:\n",
    "        job_counts[3] += 1\n",
    "    elif val == EXPERIENCES[4]:\n",
    "        job_counts[4] += 1\n",
    "    elif val == EXPERIENCES[5]:\n",
    "        job_counts[5] += 1\n",
    "    elif val == EXPERIENCES[6]:\n",
    "        job_counts[6] += 1\n",
    "    elif val == EXPERIENCES[7]:\n",
    "        job_counts[7] += 1\n",
    "    elif val == EXPERIENCES[8]:\n",
    "        job_counts[8] += 1\n",
    "    elif val == EXPERIENCES[9]:\n",
    "        job_counts[9] += 1\n",
    "    elif val == EXPERIENCES[10]:\n",
    "        job_counts[10] += 1\n",
    "job_counts = np.array(job_counts)\n",
    "\n",
    "counts_of_each_job = {\n",
    "    EXPERIENCES[0]: job_counts[0],\n",
    "    EXPERIENCES[1]: job_counts[1],\n",
    "    EXPERIENCES[2]: job_counts[2],\n",
    "    EXPERIENCES[3]: job_counts[3],\n",
    "    EXPERIENCES[4]: job_counts[4],\n",
    "    EXPERIENCES[5]: job_counts[5],\n",
    "    EXPERIENCES[6]: job_counts[6],\n",
    "    EXPERIENCES[7]: job_counts[7],\n",
    "    EXPERIENCES[8]: job_counts[8],\n",
    "    EXPERIENCES[9]: job_counts[9],\n",
    "    EXPERIENCES[10]: job_counts[10],\n",
    "}\n",
    "counts_of_each_job"
   ],
   "metadata": {
    "collapsed": false,
    "pycharm": {
     "name": "#%%\n"
    }
   }
  },
  {
   "cell_type": "code",
   "execution_count": null,
   "outputs": [],
   "source": [],
   "metadata": {
    "collapsed": false,
    "pycharm": {
     "name": "#%%\n"
    }
   }
  },
  {
   "cell_type": "code",
   "execution_count": 1,
   "outputs": [],
   "source": [
    "a = {\n",
    "    \"a\": 1,\n",
    "    \"b\": 2\n",
    "}"
   ],
   "metadata": {
    "collapsed": false,
    "pycharm": {
     "name": "#%%\n"
    }
   }
  },
  {
   "cell_type": "code",
   "execution_count": 2,
   "outputs": [
    {
     "data": {
      "text/plain": "2"
     },
     "execution_count": 2,
     "metadata": {},
     "output_type": "execute_result"
    }
   ],
   "source": [
    "b = a[\"a\"] + 1\n",
    "b"
   ],
   "metadata": {
    "collapsed": false,
    "pycharm": {
     "name": "#%%\n"
    }
   }
  },
  {
   "cell_type": "code",
   "execution_count": null,
   "outputs": [],
   "source": [],
   "metadata": {
    "collapsed": false,
    "pycharm": {
     "name": "#%%\n"
    }
   }
  }
 ],
 "metadata": {
  "kernelspec": {
   "display_name": "Python 3",
   "language": "python",
   "name": "python3"
  },
  "language_info": {
   "codemirror_mode": {
    "name": "ipython",
    "version": 2
   },
   "file_extension": ".py",
   "mimetype": "text/x-python",
   "name": "python",
   "nbconvert_exporter": "python",
   "pygments_lexer": "ipython2",
   "version": "2.7.6"
  }
 },
 "nbformat": 4,
 "nbformat_minor": 0
}